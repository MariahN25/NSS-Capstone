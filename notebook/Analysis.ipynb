{
 "cells": [
  {
   "cell_type": "code",
   "execution_count": null,
   "id": "5e2ae49d",
   "metadata": {},
   "outputs": [],
   "source": [
    "import pandas as pd\n",
    "import numpy as np\n",
    "import seaborn as sns\n",
    "import matplotlib.pyplot as plt\n",
    "from functools import reduce\n",
    "import tabula\n",
    "%matplotlib inline"
   ]
  },
  {
   "cell_type": "markdown",
   "id": "70cc555c",
   "metadata": {},
   "source": [
    "* participants in Wave IV are 24 - 32 years old\n",
    "* find the percentage of the population that achieved each level of academic attainment after hs \n",
    "* Census data in thousands"
   ]
  },
  {
   "cell_type": "markdown",
   "id": "866b20ad",
   "metadata": {},
   "source": [
    "Census"
   ]
  },
  {
   "cell_type": "code",
   "execution_count": null,
   "id": "63a7bebf",
   "metadata": {},
   "outputs": [],
   "source": [
    "census_all = pd.read_excel(r\"C:\\Users\\mnorm\\Documents\\NSS\\NSS-Capstone\\data\\National Longitudinal Study of Adolescent to Adult Health\\Census Educational Attainment - 2008.xls\", 'all')\n",
    "census_all.head()"
   ]
  },
  {
   "cell_type": "code",
   "execution_count": null,
   "id": "1b9f212f",
   "metadata": {},
   "outputs": [],
   "source": [
    "censusall_sub = census_all.iloc[3:5]\n",
    "censusall_sub"
   ]
  },
  {
   "cell_type": "code",
   "execution_count": null,
   "id": "876b2e15",
   "metadata": {},
   "outputs": [],
   "source": [
    "censusall_sub.loc['Total'] = censusall_sub.iloc[:, :].sum()"
   ]
  },
  {
   "cell_type": "code",
   "execution_count": null,
   "id": "db601c2f",
   "metadata": {},
   "outputs": [],
   "source": [
    "censusall_sub.reset_index(drop = False)"
   ]
  },
  {
   "cell_type": "code",
   "execution_count": null,
   "id": "fb1dd0a8",
   "metadata": {},
   "outputs": [],
   "source": [
    "census_pct = censusall_sub.iloc[1:, 1:].div(censusall_sub['Total'], axis = 0)"
   ]
  },
  {
   "cell_type": "code",
   "execution_count": null,
   "id": "e182084e",
   "metadata": {},
   "outputs": [],
   "source": [
    "for col in censusall_sub.columns[2:] :   \n",
    "    census_pct[col] = (censusall_sub[col]/censusall_sub['Total'])"
   ]
  },
  {
   "cell_type": "code",
   "execution_count": null,
   "id": "a8629547",
   "metadata": {},
   "outputs": [],
   "source": [
    "census_pct = round(census_pct, 4)\n",
    "census_pct"
   ]
  },
  {
   "cell_type": "markdown",
   "id": "24711c80",
   "metadata": {},
   "source": [
    "Merge Wave AIDs"
   ]
  },
  {
   "cell_type": "code",
   "execution_count": null,
   "id": "f419b96b",
   "metadata": {},
   "outputs": [],
   "source": [
    "wave1 = pd.read_csv(r\"C:\\Users\\mnorm\\Documents\\NSS\\NSS-Capstone\\data\\National Longitudinal Study of Adolescent to Adult Health\\ICPSR_21600\\DS0001\\21600-0001-Data.tsv\", sep = '\\t', usecols = ['AID'])\n",
    "wave3educ = pd.read_csv(r\"C:\\Users\\mnorm\\Documents\\NSS\\NSS-Capstone\\data\\National Longitudinal Study of Adolescent to Adult Health\\ICPSR_21600\\DS0016\\21600-0016-Data.tsv\", sep = '\\t', usecols = ['AID'])\n",
    "wave3grad = pd.read_csv(r\"C:\\Users\\mnorm\\Documents\\NSS\\NSS-Capstone\\data\\National Longitudinal Study of Adolescent to Adult Health\\ICPSR_21600\\DS0017\\21600-0017-Data.tsv\", sep = '\\t', usecols = ['AID'])\n",
    "wave4 = pd.read_csv(r\"C:\\Users\\mnorm\\Documents\\NSS\\NSS-Capstone\\data\\National Longitudinal Study of Adolescent to Adult Health\\ICPSR_21600\\DS0022\\21600-0022-Data.tsv\", sep = '\\t', usecols = ['AID'])"
   ]
  },
  {
   "cell_type": "code",
   "execution_count": null,
   "id": "ec6c5594",
   "metadata": {},
   "outputs": [],
   "source": [
    "print('Count of Responses per Wave')\n",
    "print('Wave 1: ', len(wave1))\n",
    "print('Wave 3 education: ', len(wave3educ))\n",
    "print('Wave 3 graduation: ', len(wave3grad))\n",
    "print('Wave 4: ', len(wave4))"
   ]
  },
  {
   "cell_type": "code",
   "execution_count": null,
   "id": "7a59e592",
   "metadata": {},
   "outputs": [],
   "source": [
    "waves = [wave1, wave3educ, wave3grad, wave4]\n",
    "AID = reduce(lambda left, right: pd.merge(left, right, on = 'AID', how = 'inner'), waves)\n",
    "len(AID)"
   ]
  },
  {
   "cell_type": "markdown",
   "id": "f700e281",
   "metadata": {},
   "source": [
    "Highest Education Level"
   ]
  },
  {
   "cell_type": "code",
   "execution_count": null,
   "id": "7c883079",
   "metadata": {},
   "outputs": [],
   "source": [
    "highest_educ = pd.read_excel(r\"C:\\Users\\mnorm\\Documents\\NSS\\NSS-Capstone\\data\\Wave 4 Questionaire .xlsx\", 'highest_educ_level')\n",
    "highest_educ = highest_educ.rename(columns = highest_educ.iloc[0])\n",
    "highest_educ = highest_educ.drop(highest_educ.index[0])\n",
    "highest_educ = highest_educ.drop(['Value'], axis = 1)\n",
    "highest_educ"
   ]
  },
  {
   "cell_type": "code",
   "execution_count": null,
   "id": "058a2550",
   "metadata": {},
   "outputs": [],
   "source": [
    "census_pct"
   ]
  },
  {
   "cell_type": "code",
   "execution_count": null,
   "id": "730f413c",
   "metadata": {},
   "outputs": [],
   "source": [
    "most_recent_degree = pd.read_excel(r\"C:\\Users\\mnorm\\Documents\\NSS\\NSS-Capstone\\data\\Wave 4 Questionaire .xlsx\", 'most_recent_degree')\n",
    "most_recent_degree = most_recent_degree.rename(columns = most_recent_degree.iloc[0])\n",
    "most_recent_degree = most_recent_degree.drop(most_recent_degree.index[0])\n",
    "most_recent_degree = most_recent_degree.drop(['Value'], axis =1)\n",
    "most_recent_degree\n",
    "#legitimate skip represents those who did not complete high school"
   ]
  },
  {
   "cell_type": "code",
   "execution_count": null,
   "id": "65737249",
   "metadata": {},
   "outputs": [],
   "source": [
    "educ = pd.read_csv(r\"\\Users\\mnorm\\Documents\\NSS\\NSS-Capstone\\data\\National Longitudinal Study of Adolescent to Adult Health\\ICPSR_21600\\DS0022\\21600-0022-Data.tsv\", sep = '\\t', usecols = ['AID', 'H4ED2'])\n",
    "educ = educ.rename(columns = {'AID':'AID', 'H4ED2': 'highest_educ_level'})\n",
    "educ"
   ]
  },
  {
   "cell_type": "code",
   "execution_count": null,
   "id": "a7b9e555",
   "metadata": {},
   "outputs": [],
   "source": []
  }
 ],
 "metadata": {
  "kernelspec": {
   "display_name": "Python 3 (ipykernel)",
   "language": "python",
   "name": "python3"
  },
  "language_info": {
   "codemirror_mode": {
    "name": "ipython",
    "version": 3
   },
   "file_extension": ".py",
   "mimetype": "text/x-python",
   "name": "python",
   "nbconvert_exporter": "python",
   "pygments_lexer": "ipython3",
   "version": "3.9.7"
  },
  "widgets": {
   "application/vnd.jupyter.widget-state+json": {
    "state": {},
    "version_major": 2,
    "version_minor": 0
   }
  }
 },
 "nbformat": 4,
 "nbformat_minor": 5
}
