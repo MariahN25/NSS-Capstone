{
 "cells": [
  {
   "cell_type": "code",
   "execution_count": null,
   "id": "5e2ae49d",
   "metadata": {},
   "outputs": [],
   "source": [
    "import pandas as pd\n",
    "import numpy as np\n",
    "import seaborn as sns\n",
    "import matplotlib.pyplot as plt\n",
    "from functools import reduce\n",
    "import tabula\n",
    "%matplotlib inline"
   ]
  },
  {
   "cell_type": "markdown",
   "id": "70cc555c",
   "metadata": {},
   "source": [
    "* participants in Wave IV are 24 - 32 years old\n",
    "* Census data in thousands"
   ]
  },
  {
   "cell_type": "markdown",
   "id": "866b20ad",
   "metadata": {},
   "source": [
    "Census"
   ]
  },
  {
   "cell_type": "code",
   "execution_count": null,
   "id": "63a7bebf",
   "metadata": {},
   "outputs": [],
   "source": [
    "census_all = pd.read_excel(r\"C:\\Users\\mnorm\\Documents\\NSS\\NSS-Capstone\\data\\National Longitudinal Study of Adolescent to Adult Health\\Census Educational Attainment - 2008.xls\", 'all')\n",
    "census_all.head()"
   ]
  },
  {
   "cell_type": "code",
   "execution_count": null,
   "id": "1b9f212f",
   "metadata": {},
   "outputs": [],
   "source": [
    "censusall_sub = census_all.iloc[3:5]\n",
    "censusall_sub"
   ]
  },
  {
   "cell_type": "code",
   "execution_count": null,
   "id": "876b2e15",
   "metadata": {},
   "outputs": [],
   "source": [
    "censusall_sub.loc['Total'] = censusall_sub.iloc[:, :].sum()"
   ]
  },
  {
   "cell_type": "code",
   "execution_count": null,
   "id": "db601c2f",
   "metadata": {},
   "outputs": [],
   "source": [
    "censusall_sub.reset_index(drop = False)"
   ]
  },
  {
   "cell_type": "code",
   "execution_count": null,
   "id": "43cded3b",
   "metadata": {},
   "outputs": [],
   "source": [
    "censusall_sub.to_csv('census_school.csv')"
   ]
  },
  {
   "cell_type": "code",
   "execution_count": null,
   "id": "fb1dd0a8",
   "metadata": {},
   "outputs": [],
   "source": [
    "census_pct = censusall_sub.iloc[1:, 1:].div(censusall_sub['Total'], axis = 0)"
   ]
  },
  {
   "cell_type": "code",
   "execution_count": null,
   "id": "e182084e",
   "metadata": {},
   "outputs": [],
   "source": [
    "for col in censusall_sub.columns[2:] :   \n",
    "    census_pct[col] = (censusall_sub[col]/censusall_sub['Total'])"
   ]
  },
  {
   "cell_type": "code",
   "execution_count": null,
   "id": "a8629547",
   "metadata": {},
   "outputs": [],
   "source": [
    "census_pct = round(census_pct, 4)\n",
    "census_pct"
   ]
  },
  {
   "cell_type": "markdown",
   "id": "24711c80",
   "metadata": {},
   "source": [
    "Merge Wave AIDs"
   ]
  },
  {
   "cell_type": "code",
   "execution_count": null,
   "id": "f419b96b",
   "metadata": {},
   "outputs": [],
   "source": [
    "wave1 = pd.read_csv(r\"C:\\Users\\mnorm\\Documents\\NSS\\NSS-Capstone\\data\\National Longitudinal Study of Adolescent to Adult Health\\ICPSR_21600\\DS0001\\21600-0001-Data.tsv\", sep = '\\t', usecols = ['AID'])\n",
    "wave2 = pd.read_csv(r\"C:\\Users\\mnorm\\Documents\\NSS\\NSS-Capstone\\data\\National Longitudinal Study of Adolescent to Adult Health\\ICPSR_21600\\DS0005\\21600-0005-Data.tsv\", sep = '\\t', usecols = ['AID'])\n",
    "wave3educ = pd.read_csv(r\"C:\\Users\\mnorm\\Documents\\NSS\\NSS-Capstone\\data\\National Longitudinal Study of Adolescent to Adult Health\\ICPSR_21600\\DS0016\\21600-0016-Data.tsv\", sep = '\\t', usecols = ['AID'])\n",
    "wave3grad = pd.read_csv(r\"C:\\Users\\mnorm\\Documents\\NSS\\NSS-Capstone\\data\\National Longitudinal Study of Adolescent to Adult Health\\ICPSR_21600\\DS0017\\21600-0017-Data.tsv\", sep = '\\t', usecols = ['AID'])\n",
    "wave4 = pd.read_csv(r\"C:\\Users\\mnorm\\Documents\\NSS\\NSS-Capstone\\data\\National Longitudinal Study of Adolescent to Adult Health\\ICPSR_21600\\DS0022\\21600-0022-Data.tsv\", sep = '\\t', usecols = ['AID'])"
   ]
  },
  {
   "cell_type": "code",
   "execution_count": null,
   "id": "ec6c5594",
   "metadata": {},
   "outputs": [],
   "source": [
    "print('Count of Responses per Wave')\n",
    "print('Wave 1: ', len(wave1))\n",
    "print('Wave 3 education: ', len(wave3educ))\n",
    "print('Wave 3 graduation: ', len(wave3grad))\n",
    "print('Wave 4: ', len(wave4))"
   ]
  },
  {
   "cell_type": "code",
   "execution_count": null,
   "id": "7a59e592",
   "metadata": {},
   "outputs": [],
   "source": [
    "waves = [wave1, wave3educ, wave3grad, wave4]\n",
    "AID = reduce(lambda left, right: pd.merge(left, right, on = 'AID', how = 'inner'), waves)\n",
    "len(AID)"
   ]
  },
  {
   "cell_type": "markdown",
   "id": "f700e281",
   "metadata": {},
   "source": [
    "Highest Education Level"
   ]
  },
  {
   "cell_type": "code",
   "execution_count": null,
   "id": "7c883079",
   "metadata": {},
   "outputs": [],
   "source": [
    "highest_educ = pd.read_excel(r\"C:\\Users\\mnorm\\Documents\\NSS\\NSS-Capstone\\data\\Wave 4 Questionaire .xlsx\", 'highest_educ_level')\n",
    "highest_educ = highest_educ.rename(columns = highest_educ.iloc[0])\n",
    "highest_educ = highest_educ.drop(highest_educ.index[0])\n",
    "#highest_educ = highest_educ.drop(['Value'], axis = 1)\n",
    "highest_educ"
   ]
  },
  {
   "cell_type": "code",
   "execution_count": null,
   "id": "55b3bf54",
   "metadata": {},
   "outputs": [],
   "source": [
    "highest_educ.to_csv('highest_educ.csv')"
   ]
  },
  {
   "cell_type": "code",
   "execution_count": null,
   "id": "058a2550",
   "metadata": {},
   "outputs": [],
   "source": [
    "census_pct"
   ]
  },
  {
   "cell_type": "code",
   "execution_count": null,
   "id": "af8fcda4",
   "metadata": {},
   "outputs": [],
   "source": [
    "census_pct.to_csv('census_pct.csv')"
   ]
  },
  {
   "cell_type": "code",
   "execution_count": null,
   "id": "730f413c",
   "metadata": {},
   "outputs": [],
   "source": [
    "most_recent_degree = pd.read_excel(r\"C:\\Users\\mnorm\\Documents\\NSS\\NSS-Capstone\\data\\Wave 4 Questionaire .xlsx\", 'most_recent_degree')\n",
    "most_recent_degree = most_recent_degree.rename(columns = most_recent_degree.iloc[0])\n",
    "most_recent_degree = most_recent_degree.drop(most_recent_degree.index[0])\n",
    "#most_recent_degree = most_recent_degree.drop(['Value'], axis =1)\n",
    "most_recent_degree\n",
    "#legitimate skip represents those who did not complete high school"
   ]
  },
  {
   "cell_type": "markdown",
   "id": "bd2415df",
   "metadata": {},
   "source": [
    "Did students who had greater academic success in hs (gpa above 3), attain a higher level of education?"
   ]
  },
  {
   "cell_type": "code",
   "execution_count": null,
   "id": "e9d425fb",
   "metadata": {},
   "outputs": [],
   "source": [
    "hs_gpa = pd.read_csv(r\"C:\\Users\\mnorm\\Documents\\NSS\\NSS-Capstone\\data\\National Longitudinal Study of Adolescent to Adult Health\\ICPSR_21600\\DS0016\\21600-0016-Data.tsv\", sep = '\\t', usecols = ['AID', 'EAOGPAC'])\n",
    "hs_gpa = hs_gpa.rename(columns = {'AID': 'AID', 'EAOGPAC': 'cumulative_gpa'})\n",
    "hs_gpa = pd.merge(AID, hs_gpa, on = 'AID', how = 'left')\n",
    "#hs_gpa.isna().sum() #check for nulls to make sure the AID matched\n",
    "bins = [-1, 1, 2, 3 ,4]\n",
    "labels = ['0-1', '1-2', '2-3', '3-4']\n",
    "hs_gpa['gpa_range'] = pd.cut(np.array(hs_gpa['cumulative_gpa']), bins = bins, labels = labels)\n",
    "hs_gpa"
   ]
  },
  {
   "cell_type": "code",
   "execution_count": null,
   "id": "afc5e2ff",
   "metadata": {},
   "outputs": [],
   "source": [
    "hs_gpa.dtypes"
   ]
  },
  {
   "cell_type": "code",
   "execution_count": null,
   "id": "cb5e1773",
   "metadata": {},
   "outputs": [],
   "source": [
    "#remove students with 9995 value as cumulative gpa. those students didn't receive grades\n",
    "#len(hs_gpa.loc[hs_gpa['cumulative_gpa'] == 9995]) =24 students\n",
    "hs_gpa = hs_gpa.drop(hs_gpa[hs_gpa['cumulative_gpa'] == 9995].index)"
   ]
  },
  {
   "cell_type": "code",
   "execution_count": null,
   "id": "2bd86bf7",
   "metadata": {},
   "outputs": [],
   "source": [
    "educ_attainment = pd.read_csv(r\"C:\\Users\\mnorm\\Documents\\NSS\\NSS-Capstone\\data\\National Longitudinal Study of Adolescent to Adult Health\\ICPSR_21600\\DS0022\\21600-0022-Data.tsv\", sep = '\\t', usecols = ['AID', 'H4ED3A'])\n",
    "educ_attainment = educ_attainment.rename(columns = {'H4ED3A':'Value'})\n",
    "educ_attainment.dtypes"
   ]
  },
  {
   "cell_type": "code",
   "execution_count": null,
   "id": "dfb450cd",
   "metadata": {},
   "outputs": [],
   "source": [
    "mrd_code = most_recent_degree[['Value', 'Description']]\n",
    "mrd_code.dtypes"
   ]
  },
  {
   "cell_type": "code",
   "execution_count": null,
   "id": "63ba7e7e",
   "metadata": {},
   "outputs": [],
   "source": [
    "mrd_code['Value'] = mrd_code['Value'].astype('int')"
   ]
  },
  {
   "cell_type": "code",
   "execution_count": null,
   "id": "1701307f",
   "metadata": {},
   "outputs": [],
   "source": [
    "educ_attainment = pd.merge(educ_attainment, mrd_code, on = 'Value', how = 'left')"
   ]
  },
  {
   "cell_type": "code",
   "execution_count": null,
   "id": "7bb0eb96",
   "metadata": {},
   "outputs": [],
   "source": [
    "gpa_educ = pd.merge(hs_gpa, educ_attainment, on = 'AID', how = 'left')\n",
    "#gpa_educ.isna().sum()\n",
    "bins = [-1, 1, 2, 3 ,4]\n",
    "labels = ['0-1', '1-2', '2-3', '3-4']\n",
    "gpa_educ['gpa_range'] = pd.cut(np.array(gpa_educ['cumulative_gpa']), bins = bins, labels = labels)\n",
    "pd.DataFrame(gpa_educ.groupby('Description')['cumulative_gpa'].min())"
   ]
  },
  {
   "cell_type": "code",
   "execution_count": null,
   "id": "1cd478b7",
   "metadata": {},
   "outputs": [],
   "source": [
    "pd.DataFrame(gpa_educ.groupby('Description')['cumulative_gpa'].max())"
   ]
  },
  {
   "cell_type": "code",
   "execution_count": null,
   "id": "d5705bd4",
   "metadata": {},
   "outputs": [],
   "source": [
    "pd.DataFrame(gpa_educ.groupby('Description')['cumulative_gpa'].mean())"
   ]
  },
  {
   "cell_type": "markdown",
   "id": "fed45361",
   "metadata": {},
   "source": [
    "Did students who had greater academic success in hs(gpa above 3), express a desire for more education?"
   ]
  },
  {
   "cell_type": "code",
   "execution_count": null,
   "id": "ed7120a1",
   "metadata": {},
   "outputs": [],
   "source": [
    "desired_educ = pd.read_csv(r\"C:\\Users\\mnorm\\Documents\\NSS\\NSS-Capstone\\data\\National Longitudinal Study of Adolescent to Adult Health\\ICPSR_21600\\DS0022\\21600-0022-Data.tsv\", sep = '\\t', usecols = ['AID','H4ED8'])\n",
    "desired_educ = desired_educ.rename(columns = {'H4ED8': 'Value'})\n",
    "expected_educ = pd.read_csv(r\"C:\\Users\\mnorm\\Documents\\NSS\\NSS-Capstone\\data\\National Longitudinal Study of Adolescent to Adult Health\\ICPSR_21600\\DS0022\\21600-0022-Data.tsv\", sep = '\\t', usecols = ['AID','H4ED9'])\n",
    "expected_educ = expected_educ.rename(columns = {'H4ED9': 'Value_2'})\n",
    "high_educ = pd.read_csv(r\"C:\\Users\\mnorm\\Documents\\NSS\\NSS-Capstone\\data\\National Longitudinal Study of Adolescent to Adult Health\\ICPSR_21600\\DS0022\\21600-0022-Data.tsv\", sep = '\\t', usecols = ['AID', 'H4ED2'])\n",
    "high_educ = high_educ.rename(columns = {'H4ED2': 'Value_3'})"
   ]
  },
  {
   "cell_type": "code",
   "execution_count": null,
   "id": "d2c1df10",
   "metadata": {},
   "outputs": [],
   "source": [
    "desired_educ_level = pd.read_excel(r\"C:\\Users\\mnorm\\Documents\\NSS\\NSS-Capstone\\data\\Wave 4 Questionaire .xlsx\", 'desired_educ_level')\n",
    "desired_educ_level = desired_educ_level.rename(columns = desired_educ_level.iloc[0])\n",
    "desired_educ_level = desired_educ_level.drop(desired_educ_level.index[0])\n",
    "desired_educ_level = desired_educ_level[['Value', 'Description']]\n",
    "desired_educ_level"
   ]
  },
  {
   "cell_type": "code",
   "execution_count": null,
   "id": "6e9f4932",
   "metadata": {},
   "outputs": [],
   "source": [
    "expected_educ_level = pd.read_excel(r\"C:\\Users\\mnorm\\Documents\\NSS\\NSS-Capstone\\data\\Wave 4 Questionaire .xlsx\", 'expected_educ_level')\n",
    "expected_educ_level = expected_educ_level.rename(columns = expected_educ_level.iloc[0])\n",
    "expected_educ_level = expected_educ_level.drop(expected_educ_level.index[0])\n",
    "expected_educ_level = expected_educ_level.rename(columns = {'Value':'Value_2'})\n",
    "expected_educ_level"
   ]
  },
  {
   "cell_type": "code",
   "execution_count": null,
   "id": "95afd8ac",
   "metadata": {},
   "outputs": [],
   "source": [
    "desired_educ_level['Value'] = desired_educ_level['Value'].astype(int)\n",
    "desired_educ_level.dtypes"
   ]
  },
  {
   "cell_type": "code",
   "execution_count": null,
   "id": "e6f18865",
   "metadata": {},
   "outputs": [],
   "source": [
    "expected_educ_level['Value_2'] = expected_educ_level['Value_2'].astype(int)\n",
    "expected_educ_level.dtypes"
   ]
  },
  {
   "cell_type": "code",
   "execution_count": null,
   "id": "1289a3c6",
   "metadata": {},
   "outputs": [],
   "source": [
    "desired_educ = pd.merge(desired_educ, desired_educ_level, on = 'Value', how = 'left' )\n",
    "desired_educ = desired_educ.rename(columns = {'Description': 'desired_educ_level'})\n",
    "desired_educ"
   ]
  },
  {
   "cell_type": "code",
   "execution_count": null,
   "id": "a8b1b2a8",
   "metadata": {
    "scrolled": true
   },
   "outputs": [],
   "source": [
    "expected_educ = pd.merge(expected_educ, expected_educ_level, how = 'left', on = 'Value_2')\n",
    "expected_educ = expected_educ[['AID', 'Value_2', 'Description']]\n",
    "expected_educ"
   ]
  },
  {
   "cell_type": "code",
   "execution_count": null,
   "id": "db446496",
   "metadata": {},
   "outputs": [],
   "source": [
    "expected_educ = expected_educ.rename(columns = {'Description':'expected_educ_level'})\n",
    "expected_educ"
   ]
  },
  {
   "cell_type": "code",
   "execution_count": null,
   "id": "ec509744",
   "metadata": {},
   "outputs": [],
   "source": [
    "highest_educ = highest_educ[['Value', 'Label']]\n",
    "highest_educ"
   ]
  },
  {
   "cell_type": "code",
   "execution_count": null,
   "id": "f2f6da26",
   "metadata": {},
   "outputs": [],
   "source": [
    "highest_educ = highest_educ.rename(columns = {'Value': 'Value_3', 'Label':'highest_educ_level'})\n",
    "highest_educ"
   ]
  },
  {
   "cell_type": "code",
   "execution_count": null,
   "id": "8afe40e1",
   "metadata": {},
   "outputs": [],
   "source": [
    "highest_educ['Value_3'] = highest_educ['Value_3'].astype(int)\n",
    "highest_educ.dtypes"
   ]
  },
  {
   "cell_type": "code",
   "execution_count": null,
   "id": "b2914a2d",
   "metadata": {},
   "outputs": [],
   "source": [
    "highest_educ = pd.merge(high_educ, highest_educ, on = 'Value_3', how = 'left')\n",
    "highest_educ"
   ]
  },
  {
   "cell_type": "code",
   "execution_count": null,
   "id": "a7937cc0",
   "metadata": {},
   "outputs": [],
   "source": [
    "dfs = [hs_gpa, highest_educ, desired_educ, expected_educ]\n",
    "\n",
    "gpa_desired_educ = reduce(lambda left, right: pd.merge(left, right, on = 'AID'), dfs)\n",
    "pd.set_option('display.max_colwidth', None)\n",
    "#gpa_desired_educ.isna().sum()\n",
    "gpa_desired_educ"
   ]
  },
  {
   "cell_type": "code",
   "execution_count": null,
   "id": "28b26e42",
   "metadata": {},
   "outputs": [],
   "source": [
    "gpa_desired_educ.to_csv('gpa_education.csv')"
   ]
  },
  {
   "cell_type": "code",
   "execution_count": null,
   "id": "30f9eda0",
   "metadata": {},
   "outputs": [],
   "source": [
    "gpa_desired_educ.groupby('desired_educ_level')['cumulative_gpa'].min()"
   ]
  },
  {
   "cell_type": "code",
   "execution_count": null,
   "id": "4ec3ec9d",
   "metadata": {},
   "outputs": [],
   "source": [
    "gpa_desired_educ.groupby('desired_educ_level')['cumulative_gpa'].max()"
   ]
  },
  {
   "cell_type": "code",
   "execution_count": null,
   "id": "c016c121",
   "metadata": {},
   "outputs": [],
   "source": [
    "gpa_desired_educ.groupby('desired_educ_level')['cumulative_gpa'].mean()"
   ]
  },
  {
   "cell_type": "markdown",
   "id": "0e0699db",
   "metadata": {},
   "source": [
    "Education level for people who haven’t reached the desired level yet? Those who have?"
   ]
  },
  {
   "cell_type": "code",
   "execution_count": null,
   "id": "96010fe7",
   "metadata": {},
   "outputs": [],
   "source": [
    "desired_achieved = gpa_desired_educ.loc[gpa_desired_educ['Value'] == 1]\n",
    "desired_achieved.head()"
   ]
  },
  {
   "cell_type": "code",
   "execution_count": null,
   "id": "45fe1306",
   "metadata": {},
   "outputs": [],
   "source": [
    "desired_achieved['gpa_range'].value_counts(normalize = True)"
   ]
  },
  {
   "cell_type": "code",
   "execution_count": null,
   "id": "04cd199a",
   "metadata": {},
   "outputs": [],
   "source": [
    "desired_achieved['highest_educ_level'].value_counts(normalize = True)"
   ]
  },
  {
   "cell_type": "code",
   "execution_count": null,
   "id": "ee31e323",
   "metadata": {},
   "outputs": [],
   "source": [
    "desired_educ_never = gpa_desired_educ.loc[gpa_desired_educ['Value'] == 3]\n",
    "desired_educ_never.head()"
   ]
  },
  {
   "cell_type": "code",
   "execution_count": null,
   "id": "5658b4b0",
   "metadata": {},
   "outputs": [],
   "source": [
    "desired_educ_never['gpa_range'].value_counts(normalize = True)"
   ]
  },
  {
   "cell_type": "code",
   "execution_count": null,
   "id": "a38b481b",
   "metadata": {},
   "outputs": [],
   "source": [
    "desired_educ_never['highest_educ_level'].value_counts(normalize = True)"
   ]
  },
  {
   "cell_type": "code",
   "execution_count": null,
   "id": "179a1067",
   "metadata": {},
   "outputs": [],
   "source": [
    "desired_will_achieve = gpa_desired_educ.loc[gpa_desired_educ['Value'] == 2]\n",
    "desired_will_achieve.head()"
   ]
  },
  {
   "cell_type": "code",
   "execution_count": null,
   "id": "10eec39b",
   "metadata": {},
   "outputs": [],
   "source": [
    "desired_will_achieve['gpa_range'].value_counts(normalize = True)"
   ]
  },
  {
   "cell_type": "code",
   "execution_count": null,
   "id": "adb0c943",
   "metadata": {},
   "outputs": [],
   "source": [
    "desired_will_achieve['highest_educ_level'].value_counts(normalize = True)"
   ]
  },
  {
   "cell_type": "markdown",
   "id": "c35e6698",
   "metadata": {},
   "source": [
    "opinions on educational attainment"
   ]
  },
  {
   "cell_type": "code",
   "execution_count": null,
   "id": "1cca772b",
   "metadata": {},
   "outputs": [],
   "source": [
    "#educ_views = pd.read_csv(r\"C:\\Users\\mnorm\\Documents\\NSS\\NSS-Capstone\\data\\National Longitudinal Study of Adolescent to Adult Health\\ICPSR_21600\\DS0005\\21600-0005-Data.tsv\", sep = '\\t', usecols = ['AID','H2EE1', 'H2EE2', 'H2EE16'])\n",
    "#educ_views"
   ]
  },
  {
   "cell_type": "code",
   "execution_count": null,
   "id": "47f5245c",
   "metadata": {},
   "outputs": [],
   "source": [
    "#want_college = pd.read_excel(r\"C:\\Users\\mnorm\\Documents\\NSS\\NSS-Capstone\\data\\Wave 2 Questionaire.xlsx\", 'H2EE1')\n",
    "#college_likely = pd.read_excel(r\"C:\\Users\\mnorm\\Documents\\NSS\\NSS-Capstone\\data\\Wave 2 Questionaire.xlsx\", 'H2EE2')\n",
    "#graduation_likely = pd.read_excel(r\"C:\\Users\\mnorm\\Documents\\NSS\\NSS-Capstone\\data\\Wave 2 Questionaire.xlsx\", 'H2EE16')"
   ]
  },
  {
   "cell_type": "code",
   "execution_count": null,
   "id": "17da44a8",
   "metadata": {},
   "outputs": [],
   "source": [
    "#educ_views = pd.merge(educ_views, want_college, how = 'left', on = 'H2EE1')\n",
    "#educ_views = pd.merge(educ_views, college_likely, how = 'left', on = 'H2EE2')\n",
    "#educ_views = pd.merge(educ_views, graduation_likely, how = 'left', on = 'H2EE16')\n",
    "#educ_views = pd.merge(AID, educ_views, how = 'left', on = 'AID')\n",
    "#educ_views"
   ]
  },
  {
   "cell_type": "code",
   "execution_count": null,
   "id": "036cb25c",
   "metadata": {},
   "outputs": [],
   "source": [
    "#educ_views_level = pd.merge(educ_views, highest_educ, on = 'AID', how = 'left')"
   ]
  },
  {
   "cell_type": "code",
   "execution_count": null,
   "id": "17fa7892",
   "metadata": {},
   "outputs": [],
   "source": [
    "#educ_views_level.to_csv('educ_views_level.csv')"
   ]
  },
  {
   "cell_type": "markdown",
   "id": "a160a9b8",
   "metadata": {},
   "source": [
    "demographics -- race"
   ]
  },
  {
   "cell_type": "code",
   "execution_count": null,
   "id": "ff23f399",
   "metadata": {},
   "outputs": [],
   "source": [
    "race = pd.read_csv(r\"C:\\Users\\mnorm\\Documents\\NSS\\NSS-Capstone\\data\\National Longitudinal Study of Adolescent to Adult Health\\ICPSR_21600\\DS0001\\21600-0001-Data.tsv\", sep = '\\t', usecols = ['AID', 'H1GI6A', 'H1GI6B', 'H1GI6C', 'H1GI6D', 'H1GI6E'])\n",
    "race = race.rename(columns = {'H1GI6A': 'White', 'H1GI6B': 'Black or African American', 'H1GI6C': 'American Indian or Native American', 'H1GI6D': 'Asian or Pacific Islander', 'H1GI6E': 'Other'})\n",
    "race = pd.merge(AID, race, how = 'left', on = 'AID')\n",
    "race"
   ]
  },
  {
   "cell_type": "code",
   "execution_count": null,
   "id": "c1f2ff16",
   "metadata": {},
   "outputs": [],
   "source": [
    "race.to_csv(\"race.csv\")"
   ]
  },
  {
   "cell_type": "code",
   "execution_count": null,
   "id": "2ec47bfa",
   "metadata": {},
   "outputs": [],
   "source": [
    "#Checking to see if people who refused to answer or said don't know, associated themselves with any race\n",
    "#people who refused to answer, will remove them from the dataset and they're the same people\n",
    "#people who don't know, will remove them from the dataset as well\n",
    "\n",
    "#race.loc[race['White'] == 8]\n",
    "#race.loc[race['Black or African American'] == 8]\n",
    "#race.loc[race['American Indian or Native American'] == 8]\n",
    "#race.loc[race['Asian or Pacific Islander'] == 8]\n",
    "race = race.drop(race[(race['Other'] == 8) | (race['Other'] == 6)].index)\n",
    "race.head()"
   ]
  },
  {
   "cell_type": "code",
   "execution_count": null,
   "id": "10b8e89c",
   "metadata": {},
   "outputs": [],
   "source": [
    "#add totals row to get the sum of each row\n",
    "race.loc['Total'] = race.iloc[:, 1:].sum() \n",
    "race.loc[:, 'Col_Total'] = race.iloc[:, 1:].sum(axis=1)"
   ]
  },
  {
   "cell_type": "code",
   "execution_count": null,
   "id": "a1f6bee7",
   "metadata": {},
   "outputs": [],
   "source": [
    "race"
   ]
  },
  {
   "cell_type": "code",
   "execution_count": null,
   "id": "bd558618",
   "metadata": {},
   "outputs": [],
   "source": [
    "race.to_csv(\"race.csv\")"
   ]
  },
  {
   "cell_type": "code",
   "execution_count": null,
   "id": "da9454a8",
   "metadata": {},
   "outputs": [],
   "source": [
    "#demographics: merge with key to know what the value stands for\n",
    "#merge all demographics into one table"
   ]
  },
  {
   "cell_type": "markdown",
   "id": "3022fb26",
   "metadata": {},
   "source": [
    "demographics -- household income"
   ]
  },
  {
   "cell_type": "code",
   "execution_count": null,
   "id": "3382a599",
   "metadata": {},
   "outputs": [],
   "source": [
    "income = pd.read_csv(r\"C:\\Users\\mnorm\\Documents\\NSS\\NSS-Capstone\\data\\National Longitudinal Study of Adolescent to Adult Health\\ICPSR_21600\\DS0022\\21600-0022-Data.tsv\", sep = '\\t', usecols = ['AID','H4EC1', 'H4EC2'])\n",
    "income = income.rename(columns = {'H4EC1': 'household_income', 'H4EC2': 'personal_income'})\n",
    "income = pd.merge(AID, income, how = 'left', on = 'AID')\n",
    "income"
   ]
  },
  {
   "cell_type": "code",
   "execution_count": null,
   "id": "fed2946a",
   "metadata": {},
   "outputs": [],
   "source": [
    "income['personal_income'].describe()"
   ]
  },
  {
   "cell_type": "markdown",
   "id": "340070b6",
   "metadata": {},
   "source": [
    "demographics -- debt"
   ]
  },
  {
   "cell_type": "code",
   "execution_count": null,
   "id": "def9228a",
   "metadata": {},
   "outputs": [],
   "source": [
    "debt = pd.read_csv(r\"C:\\Users\\mnorm\\Documents\\NSS\\NSS-Capstone\\data\\National Longitudinal Study of Adolescent to Adult Health\\ICPSR_21600\\DS0022\\21600-0022-Data.tsv\", sep = '\\t', usecols = ['AID', 'H4EC8'])\n",
    "debt = debt.rename(columns = {'H4EC8': 'household_debt'})\n",
    "debt = pd.merge(AID, debt, how = 'left', on = 'AID')\n",
    "debt"
   ]
  },
  {
   "cell_type": "markdown",
   "id": "29ee9b99",
   "metadata": {},
   "source": [
    "demographics -- children"
   ]
  },
  {
   "cell_type": "code",
   "execution_count": null,
   "id": "82d1dccc",
   "metadata": {},
   "outputs": [],
   "source": [
    "children = pd.read_csv(r\"C:\\Users\\mnorm\\Documents\\NSS\\NSS-Capstone\\data\\National Longitudinal Study of Adolescent to Adult Health\\ICPSR_21600\\DS0022\\21600-0022-Data.tsv\", sep = '\\t', usecols = ['AID', 'H4TR11'])\n",
    "children = children.rename(columns = {'H4TR11': 'children'})\n",
    "children = pd.merge(AID, children, how = 'left', on = 'AID')\n",
    "children"
   ]
  },
  {
   "cell_type": "markdown",
   "id": "01a30f03",
   "metadata": {},
   "source": [
    "demographics -- married"
   ]
  },
  {
   "cell_type": "code",
   "execution_count": null,
   "id": "07c7e683",
   "metadata": {},
   "outputs": [],
   "source": [
    "married = pd.read_csv(r\"C:\\Users\\mnorm\\Documents\\NSS\\NSS-Capstone\\data\\National Longitudinal Study of Adolescent to Adult Health\\ICPSR_21600\\DS0022\\21600-0022-Data.tsv\", sep = '\\t', usecols = ['AID', 'H4TR1'])\n",
    "married = married.rename(columns = {'H4TR1': 'times_married'})\n",
    "married = pd.merge(AID, married, how = 'left', on = 'AID')\n",
    "married"
   ]
  },
  {
   "cell_type": "code",
   "execution_count": null,
   "id": "f278db4f",
   "metadata": {},
   "outputs": [],
   "source": []
  }
 ],
 "metadata": {
  "kernelspec": {
   "display_name": "Python 3 (ipykernel)",
   "language": "python",
   "name": "python3"
  },
  "language_info": {
   "codemirror_mode": {
    "name": "ipython",
    "version": 3
   },
   "file_extension": ".py",
   "mimetype": "text/x-python",
   "name": "python",
   "nbconvert_exporter": "python",
   "pygments_lexer": "ipython3",
   "version": "3.9.7"
  },
  "widgets": {
   "application/vnd.jupyter.widget-state+json": {
    "state": {},
    "version_major": 2,
    "version_minor": 0
   }
  }
 },
 "nbformat": 4,
 "nbformat_minor": 5
}
