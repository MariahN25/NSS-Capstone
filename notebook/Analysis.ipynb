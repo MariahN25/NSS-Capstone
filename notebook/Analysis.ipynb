{
 "cells": [
  {
   "cell_type": "code",
   "execution_count": null,
   "id": "5e2ae49d",
   "metadata": {},
   "outputs": [],
   "source": [
    "import pandas as pd\n",
    "import numpy as np\n",
    "import seaborn as sns\n",
    "import matplotlib.pyplot as plt\n",
    "from functools import reduce\n",
    "import tabula\n",
    "%matplotlib inline"
   ]
  },
  {
   "cell_type": "code",
   "execution_count": null,
   "id": "d8e4ad20",
   "metadata": {},
   "outputs": [],
   "source": [
    "#compare 2008 census data to the wave 4 dataset as a whole\n",
    "#breakdown by sex\n",
    "#compare students who got 3-4 gpa to census data\n",
    "#compare students who got lower than that to census data\n",
    "#demographics of people who want higher education\n",
    "#demographics of people who want higher education but feel like they can't get it\n",
    "#analyze within ICPSR\n",
    "#correlation analysis: https://machinelearningmastery.com/how-to-use-correlation-to-understand-the-relationship-between-variables/"
   ]
  },
  {
   "cell_type": "markdown",
   "id": "70cc555c",
   "metadata": {},
   "source": [
    "* participants in Wave IV are 24 - 32 years old\n",
    "* find the percentage of the population that achieved each level of academic attainment after hs "
   ]
  },
  {
   "cell_type": "markdown",
   "id": "866b20ad",
   "metadata": {},
   "source": [
    "Census"
   ]
  },
  {
   "cell_type": "code",
   "execution_count": null,
   "id": "63a7bebf",
   "metadata": {},
   "outputs": [],
   "source": [
    "census_all = pd.read_excel(r\"C:\\Users\\mnorm\\Documents\\NSS\\NSS-Capstone\\data\\National Longitudinal Study of Adolescent to Adult Health\\Census Educational Attainment - 2008.xls\", 'all')\n",
    "census_all.head()"
   ]
  },
  {
   "cell_type": "code",
   "execution_count": null,
   "id": "1b9f212f",
   "metadata": {},
   "outputs": [],
   "source": [
    "censusall_sub = census_all.iloc[3:5]\n",
    "censusall_sub = censusall_sub.iloc[:, [0,1, 9,10,11,12,13,14,15,16]]\n",
    "censusall_sub"
   ]
  },
  {
   "cell_type": "code",
   "execution_count": null,
   "id": "876b2e15",
   "metadata": {},
   "outputs": [],
   "source": [
    "censusall_sub.loc['Total'] = censusall_sub.iloc[:, :].sum()"
   ]
  },
  {
   "cell_type": "code",
   "execution_count": null,
   "id": "db601c2f",
   "metadata": {},
   "outputs": [],
   "source": [
    "censusall_sub.reset_index(drop = False)"
   ]
  },
  {
   "cell_type": "code",
   "execution_count": null,
   "id": "fb1dd0a8",
   "metadata": {},
   "outputs": [],
   "source": [
    "census_pct = censusall_sub.iloc[1:, 1:].div(censusall_sub['Total'], axis = 0)"
   ]
  },
  {
   "cell_type": "code",
   "execution_count": null,
   "id": "e182084e",
   "metadata": {},
   "outputs": [],
   "source": [
    "for col in censusall_sub.columns[2:] :   \n",
    "    census_pct[col] = (censusall_sub[col]/censusall_sub['Total'])"
   ]
  },
  {
   "cell_type": "code",
   "execution_count": null,
   "id": "a8629547",
   "metadata": {},
   "outputs": [],
   "source": [
    "round(census_pct, 4)"
   ]
  },
  {
   "cell_type": "markdown",
   "id": "24711c80",
   "metadata": {},
   "source": [
    "Merge Wave AIDs"
   ]
  },
  {
   "cell_type": "code",
   "execution_count": null,
   "id": "f419b96b",
   "metadata": {},
   "outputs": [],
   "source": [
    "wave1 = pd.read_csv(r\"C:\\Users\\mnorm\\Documents\\NSS\\NSS-Capstone\\data\\National Longitudinal Study of Adolescent to Adult Health\\ICPSR_21600\\DS0001\\21600-0001-Data.tsv\", sep = '\\t', usecols = ['AID'])\n",
    "wave3educ = pd.read_csv(r\"C:\\Users\\mnorm\\Documents\\NSS\\NSS-Capstone\\data\\National Longitudinal Study of Adolescent to Adult Health\\ICPSR_21600\\DS0016\\21600-0016-Data.tsv\", sep = '\\t', usecols = ['AID'])\n",
    "wave3grad = pd.read_csv(r\"C:\\Users\\mnorm\\Documents\\NSS\\NSS-Capstone\\data\\National Longitudinal Study of Adolescent to Adult Health\\ICPSR_21600\\DS0017\\21600-0017-Data.tsv\", sep = '\\t', usecols = ['AID'])\n",
    "wave4 = pd.read_csv(r\"C:\\Users\\mnorm\\Documents\\NSS\\NSS-Capstone\\data\\National Longitudinal Study of Adolescent to Adult Health\\ICPSR_21600\\DS0022\\21600-0022-Data.tsv\", sep = '\\t', usecols = ['AID'])"
   ]
  },
  {
   "cell_type": "code",
   "execution_count": null,
   "id": "ec6c5594",
   "metadata": {},
   "outputs": [],
   "source": [
    "print('Count of Responses per Wave')\n",
    "print('Wave 1: ', len(wave1))\n",
    "print('Wave 3 education: ', len(wave3educ))\n",
    "print('Wave 3 graduation: ', len(wave3grad))\n",
    "print('Wave 4: ', len(wave4))"
   ]
  },
  {
   "cell_type": "code",
   "execution_count": null,
   "id": "7a59e592",
   "metadata": {},
   "outputs": [],
   "source": [
    "waves = [wave1, wave3educ, wave3grad, wave4]\n",
    "AID = reduce(lambda left, right: pd.merge(left, right, on = 'AID', how = 'inner'), waves)\n",
    "AID"
   ]
  },
  {
   "cell_type": "markdown",
   "id": "f700e281",
   "metadata": {},
   "source": [
    "Highest Education Level"
   ]
  },
  {
   "cell_type": "code",
   "execution_count": null,
   "id": "65737249",
   "metadata": {},
   "outputs": [],
   "source": [
    "educ = pd.read_csv(r\"\\Users\\mnorm\\Documents\\NSS\\NSS-Capstone\\data\\National Longitudinal Study of Adolescent to Adult Health\\ICPSR_21600\\DS0022\\21600-0022-Data.tsv\", sep = '\\t', usecols = ['AID', 'H4ED2'])\n",
    "educ = educ.rename(columns = {'AID':'AID', 'H4ED2': 'highest_educ_level'})\n",
    "educ"
   ]
  },
  {
   "cell_type": "code",
   "execution_count": null,
   "id": "28a2cd06",
   "metadata": {},
   "outputs": [],
   "source": [
    "tabula.read_pdf(r\"C:\\Users\\mnorm\\Documents\\NSS\\NSS-Capstone\\data\\National Longitudinal Study of Adolescent to Adult Health\\ICPSR_21600\\DS0022\\21600-0022-Codebook\\Questionnaire.pdf\", pages = 116)"
   ]
  },
  {
   "cell_type": "code",
   "execution_count": null,
   "id": "a7b9e555",
   "metadata": {},
   "outputs": [],
   "source": []
  }
 ],
 "metadata": {
  "kernelspec": {
   "display_name": "Python 3 (ipykernel)",
   "language": "python",
   "name": "python3"
  },
  "language_info": {
   "codemirror_mode": {
    "name": "ipython",
    "version": 3
   },
   "file_extension": ".py",
   "mimetype": "text/x-python",
   "name": "python",
   "nbconvert_exporter": "python",
   "pygments_lexer": "ipython3",
   "version": "3.9.7"
  },
  "widgets": {
   "application/vnd.jupyter.widget-state+json": {
    "state": {},
    "version_major": 2,
    "version_minor": 0
   }
  }
 },
 "nbformat": 4,
 "nbformat_minor": 5
}
