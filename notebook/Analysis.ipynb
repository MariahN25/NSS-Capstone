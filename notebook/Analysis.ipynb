{
 "cells": [
  {
   "cell_type": "code",
   "execution_count": null,
   "id": "5e2ae49d",
   "metadata": {},
   "outputs": [],
   "source": [
    "import pandas as pd\n",
    "import numpy as np\n",
    "import seaborn as sns\n",
    "import matplotlib.pyplot as plt\n",
    "from functools import reduce\n",
    "import tabula\n",
    "%matplotlib inline"
   ]
  },
  {
   "cell_type": "markdown",
   "id": "70cc555c",
   "metadata": {},
   "source": [
    "* participants in Wave IV are 24 - 32 years old\n",
    "* Census data in thousands"
   ]
  },
  {
   "cell_type": "markdown",
   "id": "866b20ad",
   "metadata": {},
   "source": [
    "Census"
   ]
  },
  {
   "cell_type": "code",
   "execution_count": null,
   "id": "63a7bebf",
   "metadata": {},
   "outputs": [],
   "source": [
    "census_all = pd.read_excel(r\"C:\\Users\\mnorm\\Documents\\NSS\\NSS-Capstone\\data\\National Longitudinal Study of Adolescent to Adult Health\\Census Educational Attainment - 2008.xls\", 'all')\n",
    "census_all.head()"
   ]
  },
  {
   "cell_type": "code",
   "execution_count": null,
   "id": "1b9f212f",
   "metadata": {},
   "outputs": [],
   "source": [
    "censusall_sub = census_all.iloc[3:5]\n",
    "censusall_sub"
   ]
  },
  {
   "cell_type": "code",
   "execution_count": null,
   "id": "876b2e15",
   "metadata": {},
   "outputs": [],
   "source": [
    "censusall_sub.loc['Total'] = censusall_sub.iloc[:, :].sum()"
   ]
  },
  {
   "cell_type": "code",
   "execution_count": null,
   "id": "db601c2f",
   "metadata": {},
   "outputs": [],
   "source": [
    "censusall_sub.reset_index(drop = False)"
   ]
  },
  {
   "cell_type": "code",
   "execution_count": null,
   "id": "fb1dd0a8",
   "metadata": {},
   "outputs": [],
   "source": [
    "census_pct = censusall_sub.iloc[1:, 1:].div(censusall_sub['Total'], axis = 0)"
   ]
  },
  {
   "cell_type": "code",
   "execution_count": null,
   "id": "e182084e",
   "metadata": {},
   "outputs": [],
   "source": [
    "for col in censusall_sub.columns[2:] :   \n",
    "    census_pct[col] = (censusall_sub[col]/censusall_sub['Total'])"
   ]
  },
  {
   "cell_type": "code",
   "execution_count": null,
   "id": "a8629547",
   "metadata": {},
   "outputs": [],
   "source": [
    "census_pct = round(census_pct, 4)\n",
    "census_pct"
   ]
  },
  {
   "cell_type": "markdown",
   "id": "24711c80",
   "metadata": {},
   "source": [
    "Merge Wave AIDs"
   ]
  },
  {
   "cell_type": "code",
   "execution_count": null,
   "id": "f419b96b",
   "metadata": {},
   "outputs": [],
   "source": [
    "wave1 = pd.read_csv(r\"C:\\Users\\mnorm\\Documents\\NSS\\NSS-Capstone\\data\\National Longitudinal Study of Adolescent to Adult Health\\ICPSR_21600\\DS0001\\21600-0001-Data.tsv\", sep = '\\t', usecols = ['AID'])\n",
    "wave3educ = pd.read_csv(r\"C:\\Users\\mnorm\\Documents\\NSS\\NSS-Capstone\\data\\National Longitudinal Study of Adolescent to Adult Health\\ICPSR_21600\\DS0016\\21600-0016-Data.tsv\", sep = '\\t', usecols = ['AID'])\n",
    "wave3grad = pd.read_csv(r\"C:\\Users\\mnorm\\Documents\\NSS\\NSS-Capstone\\data\\National Longitudinal Study of Adolescent to Adult Health\\ICPSR_21600\\DS0017\\21600-0017-Data.tsv\", sep = '\\t', usecols = ['AID'])\n",
    "wave4 = pd.read_csv(r\"C:\\Users\\mnorm\\Documents\\NSS\\NSS-Capstone\\data\\National Longitudinal Study of Adolescent to Adult Health\\ICPSR_21600\\DS0022\\21600-0022-Data.tsv\", sep = '\\t', usecols = ['AID'])"
   ]
  },
  {
   "cell_type": "code",
   "execution_count": null,
   "id": "ec6c5594",
   "metadata": {},
   "outputs": [],
   "source": [
    "print('Count of Responses per Wave')\n",
    "print('Wave 1: ', len(wave1))\n",
    "print('Wave 3 education: ', len(wave3educ))\n",
    "print('Wave 3 graduation: ', len(wave3grad))\n",
    "print('Wave 4: ', len(wave4))"
   ]
  },
  {
   "cell_type": "code",
   "execution_count": null,
   "id": "7a59e592",
   "metadata": {},
   "outputs": [],
   "source": [
    "waves = [wave1, wave3educ, wave3grad, wave4]\n",
    "AID = reduce(lambda left, right: pd.merge(left, right, on = 'AID', how = 'inner'), waves)\n",
    "len(AID)"
   ]
  },
  {
   "cell_type": "markdown",
   "id": "f700e281",
   "metadata": {},
   "source": [
    "Highest Education Level"
   ]
  },
  {
   "cell_type": "code",
   "execution_count": null,
   "id": "7c883079",
   "metadata": {},
   "outputs": [],
   "source": [
    "highest_educ = pd.read_excel(r\"C:\\Users\\mnorm\\Documents\\NSS\\NSS-Capstone\\data\\Wave 4 Questionaire .xlsx\", 'highest_educ_level')\n",
    "highest_educ = highest_educ.rename(columns = highest_educ.iloc[0])\n",
    "highest_educ = highest_educ.drop(highest_educ.index[0])\n",
    "highest_educ = highest_educ.drop(['Value'], axis = 1)\n",
    "highest_educ"
   ]
  },
  {
   "cell_type": "code",
   "execution_count": null,
   "id": "058a2550",
   "metadata": {},
   "outputs": [],
   "source": [
    "census_pct"
   ]
  },
  {
   "cell_type": "code",
   "execution_count": null,
   "id": "730f413c",
   "metadata": {},
   "outputs": [],
   "source": [
    "most_recent_degree = pd.read_excel(r\"C:\\Users\\mnorm\\Documents\\NSS\\NSS-Capstone\\data\\Wave 4 Questionaire .xlsx\", 'most_recent_degree')\n",
    "most_recent_degree = most_recent_degree.rename(columns = most_recent_degree.iloc[0])\n",
    "most_recent_degree = most_recent_degree.drop(most_recent_degree.index[0])\n",
    "#most_recent_degree = most_recent_degree.drop(['Value'], axis =1)\n",
    "most_recent_degree\n",
    "#legitimate skip represents those who did not complete high school"
   ]
  },
  {
   "cell_type": "markdown",
   "id": "728653ad",
   "metadata": {},
   "source": [
    "Did students who had greater academic success in hs (gpa above 3), attain a higher level of education?"
   ]
  },
  {
   "cell_type": "code",
   "execution_count": null,
   "id": "dcd036d7",
   "metadata": {},
   "outputs": [],
   "source": [
    "hs_gpa = pd.read_csv(r\"C:\\Users\\mnorm\\Documents\\NSS\\NSS-Capstone\\data\\National Longitudinal Study of Adolescent to Adult Health\\ICPSR_21600\\DS0016\\21600-0016-Data.tsv\", sep = '\\t', usecols = ['AID', 'EAOGPAC'])\n",
    "hs_gpa = hs_gpa.rename(columns = {'AID': 'AID', 'EAOGPAC': 'cumulative_gpa'})\n",
    "hs_gpa = pd.merge(AID, hs_gpa, on = 'AID', how = 'left')\n",
    "#hs_gpa.isna().sum() #check for nulls to make sure the AID matched\n",
    "hs_gpa"
   ]
  },
  {
   "cell_type": "code",
   "execution_count": null,
   "id": "c9d6a323",
   "metadata": {},
   "outputs": [],
   "source": [
    "hs_gpa.dtypes"
   ]
  },
  {
   "cell_type": "code",
   "execution_count": null,
   "id": "6d61744e",
   "metadata": {},
   "outputs": [],
   "source": [
    "#remove students with 9995 value as cumulative gpa. those students didn't receive grades\n",
    "#len(hs_gpa.loc[hs_gpa['cumulative_gpa'] == 9995]) =24 students\n",
    "hs_gpa = hs_gpa.drop(hs_gpa[hs_gpa['cumulative_gpa'] == 9995].index)"
   ]
  },
  {
   "cell_type": "code",
   "execution_count": null,
   "id": "7e4926a2",
   "metadata": {},
   "outputs": [],
   "source": [
    "educ_attainment = pd.read_csv(r\"C:\\Users\\mnorm\\Documents\\NSS\\NSS-Capstone\\data\\National Longitudinal Study of Adolescent to Adult Health\\ICPSR_21600\\DS0022\\21600-0022-Data.tsv\", sep = '\\t', usecols = ['AID', 'H4ED3A'])\n",
    "educ_attainment = educ_attainment.rename(columns = {'H4ED3A':'Value'})\n",
    "educ_attainment.dtypes"
   ]
  },
  {
   "cell_type": "code",
   "execution_count": null,
   "id": "c4e94c3b",
   "metadata": {},
   "outputs": [],
   "source": [
    "mrd_code = most_recent_degree[['Value', 'Description']]\n",
    "mrd_code.dtypes"
   ]
  },
  {
   "cell_type": "code",
   "execution_count": null,
   "id": "81a7d355",
   "metadata": {},
   "outputs": [],
   "source": [
    "mrd_code['Value'] = mrd_code['Value'].astype('int')"
   ]
  },
  {
   "cell_type": "code",
   "execution_count": null,
   "id": "899c21d4",
   "metadata": {},
   "outputs": [],
   "source": [
    "educ_attainment = pd.merge(educ_attainment, mrd_code, on = 'Value', how = 'left')"
   ]
  },
  {
   "cell_type": "code",
   "execution_count": null,
   "id": "d2ee4086",
   "metadata": {},
   "outputs": [],
   "source": [
    "gpa_educ = pd.merge(hs_gpa, educ_attainment, on = 'AID', how = 'left')\n",
    "#gpa_educ.isna().sum()\n",
    "bins = [-1, 1, 2, 3 ,4]\n",
    "labels = ['0-1', '1-2', '2-3', '3-4']\n",
    "gpa_educ['gpa_range'] = pd.cut(np.array(gpa_educ['cumulative_gpa']), bins = bins, labels = labels)\n",
    "pd.DataFrame(gpa_educ.groupby('Description')['cumulative_gpa'].min())"
   ]
  },
  {
   "cell_type": "code",
   "execution_count": null,
   "id": "b5127638",
   "metadata": {},
   "outputs": [],
   "source": [
    "pd.DataFrame(gpa_educ.groupby('Description')['cumulative_gpa'].max())"
   ]
  },
  {
   "cell_type": "code",
   "execution_count": null,
   "id": "528e5ec3",
   "metadata": {},
   "outputs": [],
   "source": [
    "pd.DataFrame(gpa_educ.groupby('Description')['cumulative_gpa'].mean())"
   ]
  },
  {
   "cell_type": "markdown",
   "id": "59a98c70",
   "metadata": {},
   "source": [
    "Did students who had greater academic success in hs(gpa above 3), express a desire for more education?"
   ]
  },
  {
   "cell_type": "code",
   "execution_count": null,
   "id": "2b098808",
   "metadata": {},
   "outputs": [],
   "source": [
    "hs_gpa"
   ]
  },
  {
   "cell_type": "code",
   "execution_count": null,
   "id": "17991d3f",
   "metadata": {},
   "outputs": [],
   "source": [
    "desired_educ = pd.read_csv(r\"C:\\Users\\mnorm\\Documents\\NSS\\NSS-Capstone\\data\\National Longitudinal Study of Adolescent to Adult Health\\ICPSR_21600\\DS0022\\21600-0022-Data.tsv\", sep = '\\t', usecols = ['AID','H4ED8'])\n",
    "desired_educ = desired_educ.rename(columns = {'H4ED8': 'Value'})\n",
    "expected_educ = pd.read_csv(r\"C:\\Users\\mnorm\\Documents\\NSS\\NSS-Capstone\\data\\National Longitudinal Study of Adolescent to Adult Health\\ICPSR_21600\\DS0022\\21600-0022-Data.tsv\", sep = '\\t', usecols = ['AID','H4ED9'])"
   ]
  },
  {
   "cell_type": "code",
   "execution_count": null,
   "id": "7d7e545b",
   "metadata": {},
   "outputs": [],
   "source": [
    "desired_educ_level = pd.read_excel(r\"C:\\Users\\mnorm\\Documents\\NSS\\NSS-Capstone\\data\\Wave 4 Questionaire .xlsx\", 'desired_educ_level')\n",
    "desired_educ_level = desired_educ_level.rename(columns = desired_educ_level.iloc[0])\n",
    "desired_educ_level = desired_educ_level.drop(desired_educ_level.index[0])\n",
    "desired_educ_level = desired_educ_level[['Value', 'Description']]\n",
    "desired_educ_level"
   ]
  },
  {
   "cell_type": "code",
   "execution_count": null,
   "id": "af4a6dd7",
   "metadata": {},
   "outputs": [],
   "source": [
    "desired_educ_level['Value'] = desired_educ_level['Value'].astype(int)\n",
    "desired_educ_level.dtypes"
   ]
  },
  {
   "cell_type": "code",
   "execution_count": null,
   "id": "878a0820",
   "metadata": {},
   "outputs": [],
   "source": [
    "desired_educ = pd.merge(desired_educ, desired_educ_level, on = 'Value', how = 'left' )\n",
    "desired_educ"
   ]
  },
  {
   "cell_type": "code",
   "execution_count": null,
   "id": "e1b60d81",
   "metadata": {},
   "outputs": [],
   "source": [
    "gpa_desired_educ = pd.merge(hs_gpa, desired_educ, how = 'left', on = 'AID' )\n",
    "#gpa_desired_educ.isna().sum()\n",
    "gpa_desired_educ"
   ]
  },
  {
   "cell_type": "code",
   "execution_count": null,
   "id": "a9f56bbc",
   "metadata": {},
   "outputs": [],
   "source": [
    "gpa_desired_educ.groupby('Description')['cumulative_gpa'].min()"
   ]
  },
  {
   "cell_type": "code",
   "execution_count": null,
   "id": "30cff86c",
   "metadata": {},
   "outputs": [],
   "source": [
    "gpa_desired_educ.groupby('Description')['cumulative_gpa'].max()"
   ]
  },
  {
   "cell_type": "code",
   "execution_count": null,
   "id": "ff726f55",
   "metadata": {},
   "outputs": [],
   "source": [
    "gpa_desired_educ.groupby('Description')['cumulative_gpa'].mean()"
   ]
  },
  {
   "cell_type": "markdown",
   "id": "04736fd5",
   "metadata": {},
   "source": [
    "demographics of people who want higher education"
   ]
  },
  {
   "cell_type": "markdown",
   "id": "483b5105",
   "metadata": {},
   "source": [
    "demographics of people who want higher education but feel like they can't get it"
   ]
  },
  {
   "cell_type": "markdown",
   "id": "8aa74788",
   "metadata": {},
   "source": [
    "close to peers and grades"
   ]
  },
  {
   "cell_type": "markdown",
   "id": "cbc8b9f7",
   "metadata": {},
   "source": [
    "Was there a year where gpa dropped among students?"
   ]
  },
  {
   "cell_type": "code",
   "execution_count": null,
   "id": "3a6cf998",
   "metadata": {},
   "outputs": [],
   "source": []
  }
 ],
 "metadata": {
  "kernelspec": {
   "display_name": "Python 3 (ipykernel)",
   "language": "python",
   "name": "python3"
  },
  "language_info": {
   "codemirror_mode": {
    "name": "ipython",
    "version": 3
   },
   "file_extension": ".py",
   "mimetype": "text/x-python",
   "name": "python",
   "nbconvert_exporter": "python",
   "pygments_lexer": "ipython3",
   "version": "3.9.7"
  },
  "widgets": {
   "application/vnd.jupyter.widget-state+json": {
    "state": {},
    "version_major": 2,
    "version_minor": 0
   }
  }
 },
 "nbformat": 4,
 "nbformat_minor": 5
}
