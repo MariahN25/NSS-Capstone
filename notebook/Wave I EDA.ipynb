{
 "cells": [
  {
   "cell_type": "code",
   "execution_count": null,
   "id": "f090f117",
   "metadata": {},
   "outputs": [],
   "source": [
    "import pandas as pd\n",
    "import numpy as np\n",
    "import seaborn as sns\n",
    "import matplotlib.pyplot as plt\n",
    "%matplotlib inline\n",
    "from functools import reduce"
   ]
  },
  {
   "cell_type": "markdown",
   "id": "be3a1ab0",
   "metadata": {},
   "source": [
    "# Wave 1 EDA "
   ]
  },
  {
   "cell_type": "code",
   "execution_count": null,
   "id": "37b43433",
   "metadata": {},
   "outputs": [],
   "source": [
    "#import columns that have to do with grades by subject\n",
    "grades = pd.read_csv(r\"\\Users\\mnorm\\Documents\\NSS\\NSS-Capstone\\data\\National Longitudinal Study of Adolescent to Adult Health\\ICPSR_21600\\DS0001\\21600-0001-Data.tsv\", sep = '\\t', usecols = ['AID','H1ED11', 'H1ED12', 'H1ED13', 'H1ED14'], low_memory = False)\n",
    "grades = grades.rename(columns = {'AID': 'AID','H1ED11': 'English', 'H1ED12' : 'Math', 'H1ED13' : 'History', 'H1ED14' : 'Science'})\n",
    "grades.head()"
   ]
  },
  {
   "cell_type": "code",
   "execution_count": null,
   "id": "e566f909",
   "metadata": {},
   "outputs": [],
   "source": [
    "key = [1,2,3,4,5,6,96,97,98]\n",
    "grade = ['A', 'B', 'C', 'D or lower', 'subject not taken', 'diff grading system', 'refusesd', 'legitimate skip', 'unknown']\n",
    "grade_code = pd.DataFrame(list(zip(key, grade)), columns = ['index', 'grade'])"
   ]
  },
  {
   "cell_type": "code",
   "execution_count": null,
   "id": "8a5599de",
   "metadata": {},
   "outputs": [],
   "source": [
    "English = pd.DataFrame(grades['English'].value_counts()).reset_index(drop = False)"
   ]
  },
  {
   "cell_type": "code",
   "execution_count": null,
   "id": "083ac7a2",
   "metadata": {},
   "outputs": [],
   "source": [
    "History = pd.DataFrame(grades['History'].value_counts()).reset_index(drop = False)"
   ]
  },
  {
   "cell_type": "code",
   "execution_count": null,
   "id": "3e423311",
   "metadata": {},
   "outputs": [],
   "source": [
    "Math = pd.DataFrame(grades['Math'].value_counts()).reset_index(drop = False)"
   ]
  },
  {
   "cell_type": "code",
   "execution_count": null,
   "id": "f1c4b4a9",
   "metadata": {},
   "outputs": [],
   "source": [
    "Science = pd.DataFrame(grades['Science'].value_counts()).reset_index(drop = False)"
   ]
  },
  {
   "cell_type": "code",
   "execution_count": null,
   "id": "21f61ac7",
   "metadata": {},
   "outputs": [],
   "source": [
    "dfs = [grade_code, English, History, Math, Science]\n",
    "gradebysub = reduce(lambda left, right: pd.merge(left,right, on = 'index', how = 'inner'), dfs)\n",
    "gradebysub"
   ]
  },
  {
   "cell_type": "code",
   "execution_count": null,
   "id": "4ea4733a",
   "metadata": {},
   "outputs": [],
   "source": [
    "A_students = grades.loc[(grades['English'] == 1) & (grades['History'] == 1) & (grades['Math'] == 1) & (grades['Science'] == 1)]\n",
    "A_students"
   ]
  },
  {
   "cell_type": "code",
   "execution_count": null,
   "id": "673c9569",
   "metadata": {},
   "outputs": [],
   "source": [
    "AB_students = grades.loc[(grades['English'] <= 2) & (grades['Math'] <= 2) & (grades['History'] <= 2) & (grades['Science'] <= 2)]\n",
    "len(AB_students)"
   ]
  },
  {
   "cell_type": "code",
   "execution_count": null,
   "id": "3bf6b96b",
   "metadata": {},
   "outputs": [],
   "source": [
    "C_below_students = grades.loc[(grades['English'].between(3,4)) & (grades['Math'].between(3,4)) & (grades['History'].between(3,4)) & (grades['Science'].between(3,4))]\n",
    "len(C_below_students)"
   ]
  },
  {
   "cell_type": "code",
   "execution_count": null,
   "id": "eda12175",
   "metadata": {},
   "outputs": [],
   "source": [
    "#import columns about feeling connected/safe with peers\n",
    "trouble_with = pd.read_csv(r\"\\Users\\mnorm\\Documents\\NSS\\NSS-Capstone\\data\\National Longitudinal Study of Adolescent to Adult Health\\ICPSR_21600\\DS0001\\21600-0001-Data.tsv\", sep = '\\t', usecols = ['AID', 'H1ED15', 'H1ED16', 'H1ED17', 'H1ED18'], low_memory = False)\n",
    "trouble_with.head()"
   ]
  },
  {
   "cell_type": "code",
   "execution_count": null,
   "id": "f64fe3ca",
   "metadata": {},
   "outputs": [],
   "source": [
    "trouble_with = trouble_with.rename(columns = {'AID':'AID','H1ED15':'trouble_get_along_teachers', 'H1ED16':'trouble_paying_attention', 'H1ED17':'trouble_getting_homework_done', 'H1ED18':'trouble_get_along_students'})\n",
    "trouble_with"
   ]
  },
  {
   "cell_type": "code",
   "execution_count": null,
   "id": "7226b6b3",
   "metadata": {},
   "outputs": [],
   "source": [
    "teachers = pd.DataFrame(trouble_with['trouble_get_along_teachers'].value_counts()).reset_index(drop = False)"
   ]
  },
  {
   "cell_type": "code",
   "execution_count": null,
   "id": "f889f722",
   "metadata": {},
   "outputs": [],
   "source": [
    "attention = pd.DataFrame(trouble_with['trouble_paying_attention'].value_counts()).reset_index(drop = False)"
   ]
  },
  {
   "cell_type": "code",
   "execution_count": null,
   "id": "96de0f0a",
   "metadata": {},
   "outputs": [],
   "source": [
    "homework = pd.DataFrame(trouble_with['trouble_getting_homework_done'].value_counts()).reset_index(drop = False)"
   ]
  },
  {
   "cell_type": "code",
   "execution_count": null,
   "id": "6a9a8154",
   "metadata": {},
   "outputs": [],
   "source": [
    "students = pd.DataFrame(trouble_with['trouble_get_along_students'].value_counts()).reset_index(drop = False)"
   ]
  },
  {
   "cell_type": "code",
   "execution_count": null,
   "id": "fb769781",
   "metadata": {},
   "outputs": [],
   "source": [
    "dfs2 = [teachers, attention, homework, students]\n",
    "trouble_with_counts = reduce(lambda left, right: pd.merge(left, right, on = 'index', how = 'inner'), dfs2)"
   ]
  },
  {
   "cell_type": "code",
   "execution_count": null,
   "id": "7216ddd9",
   "metadata": {},
   "outputs": [],
   "source": [
    "code = [0,1,2,3,4,6,7,8] \n",
    "survey = ['never', 'just a few times', 'about once a week', 'almost everyday', 'everyday', 'refused', 'legitimate skip','don’t know']\n",
    "trouble_with_code = pd.DataFrame(list(zip(code, survey)), columns = ['index', 'answer'])\n",
    "trouble_with_code"
   ]
  },
  {
   "cell_type": "code",
   "execution_count": null,
   "id": "a6cbd13c",
   "metadata": {},
   "outputs": [],
   "source": [
    "trouble = pd.merge(trouble_with_code, trouble_with_counts, how = 'inner', on = 'index')\n",
    "trouble"
   ]
  },
  {
   "cell_type": "code",
   "execution_count": null,
   "id": "66f139dd",
   "metadata": {},
   "outputs": [],
   "source": [
    "conn_safety = pd.read_csv(r\"C:\\Users\\mnorm\\Documents\\NSS\\NSS-Capstone\\data\\National Longitudinal Study of Adolescent to Adult Health\\ICPSR_21600\\DS0001\\21600-0001-Data.tsv\", sep = '\\t', usecols = ['AID', 'H1ED19', 'H1ED20', 'H1ED21', 'H1ED22', 'H1ED23', 'H1ED24'], low_memory = False)"
   ]
  },
  {
   "cell_type": "code",
   "execution_count": null,
   "id": "811aa50d",
   "metadata": {},
   "outputs": [],
   "source": [
    "conn_safety = conn_safety.rename(columns = {'AID':'AID','H1ED19':'closeto_peers', 'H1ED20':'partof_school', 'H1ED21':'students_prejudiced', 'H1ED22':'happy_at_school', 'H1ED23':'teachers_fair','H1ED24':'safein_school'})"
   ]
  },
  {
   "cell_type": "code",
   "execution_count": null,
   "id": "aa8dc3ed",
   "metadata": {},
   "outputs": [],
   "source": [
    "peers = pd.DataFrame(conn_safety['closeto_peers'].value_counts()).reset_index(drop = False)"
   ]
  },
  {
   "cell_type": "code",
   "execution_count": null,
   "id": "eab36306",
   "metadata": {},
   "outputs": [],
   "source": [
    "school = pd.DataFrame(conn_safety['partof_school'].value_counts()).reset_index(drop = False)"
   ]
  },
  {
   "cell_type": "code",
   "execution_count": null,
   "id": "834b6818",
   "metadata": {},
   "outputs": [],
   "source": [
    "prejudice = pd.DataFrame(conn_safety['students_prejudiced'].value_counts()).reset_index(drop = False)"
   ]
  },
  {
   "cell_type": "code",
   "execution_count": null,
   "id": "f85a78f8",
   "metadata": {},
   "outputs": [],
   "source": [
    "happy = pd.DataFrame(conn_safety['happy_at_school'].value_counts()).reset_index(drop = False)"
   ]
  },
  {
   "cell_type": "code",
   "execution_count": null,
   "id": "92434a45",
   "metadata": {},
   "outputs": [],
   "source": [
    "fair = pd.DataFrame(conn_safety['teachers_fair'].value_counts()).reset_index(drop = False)"
   ]
  },
  {
   "cell_type": "code",
   "execution_count": null,
   "id": "89c2eed7",
   "metadata": {},
   "outputs": [],
   "source": [
    "safe = pd.DataFrame(conn_safety['safein_school'].value_counts()).reset_index(drop = False)"
   ]
  },
  {
   "cell_type": "code",
   "execution_count": null,
   "id": "efbf5ec0",
   "metadata": {},
   "outputs": [],
   "source": [
    "dfs3 = [peers, school, prejudice, happy, fair, safe]\n",
    "\n",
    "conn_safety_counts = reduce(lambda left, right: pd.merge(left, right, on = 'index', how = 'inner'), dfs3)\n",
    "conn_safety_counts"
   ]
  },
  {
   "cell_type": "code",
   "execution_count": null,
   "id": "008ce6fa",
   "metadata": {},
   "outputs": [],
   "source": [
    "code = [1,2,3,4,5,6,7,8]\n",
    "survey = ['strongly agree', 'agree', 'neither agree nor disagree','disagree', 'strongly disagree' ,'refused', 'legitimate skip', 'don’t know']\n",
    "\n",
    "conn_safety_code = pd.DataFrame(list(zip(code, survey)), columns = ['index', 'survey'])"
   ]
  },
  {
   "cell_type": "code",
   "execution_count": null,
   "id": "66fb5e28",
   "metadata": {},
   "outputs": [],
   "source": [
    "conn_safety_ans = pd.merge(conn_safety_code, conn_safety_counts, how = 'inner', on = 'index')\n",
    "conn_safety_ans"
   ]
  },
  {
   "cell_type": "code",
   "execution_count": null,
   "id": "cbfa31f0",
   "metadata": {},
   "outputs": [],
   "source": [
    "conn_safety.head()"
   ]
  },
  {
   "cell_type": "code",
   "execution_count": null,
   "id": "d8ac80c5",
   "metadata": {},
   "outputs": [],
   "source": [
    "close_peers = conn_safety.loc[(conn_safety['closeto_peers'] <= 2)]\n",
    "close_peers"
   ]
  },
  {
   "cell_type": "code",
   "execution_count": null,
   "id": "29040e1c",
   "metadata": {},
   "outputs": [],
   "source": [
    "gradeA_peers = pd.merge(A_students, close_peers, how = 'left', on = 'AID')\n",
    "gradeA_peers"
   ]
  },
  {
   "cell_type": "code",
   "execution_count": null,
   "id": "6f81de62",
   "metadata": {},
   "outputs": [],
   "source": [
    "gradeA_peers.isna().sum()"
   ]
  },
  {
   "cell_type": "code",
   "execution_count": null,
   "id": "cf03c9f7",
   "metadata": {},
   "outputs": [],
   "source": [
    "C_below_peers = pd.merge(C_below_students, close_peers, how = 'left', on = 'AID')\n",
    "C_below_peers"
   ]
  },
  {
   "cell_type": "code",
   "execution_count": null,
   "id": "ae6656ed",
   "metadata": {},
   "outputs": [],
   "source": [
    "C_below_peers.isna().sum()"
   ]
  },
  {
   "cell_type": "code",
   "execution_count": null,
   "id": "c11d5583",
   "metadata": {},
   "outputs": [],
   "source": [
    "conn_safety_ans"
   ]
  },
  {
   "cell_type": "code",
   "execution_count": null,
   "id": "f3c0a32f",
   "metadata": {},
   "outputs": [],
   "source": [
    "conn_safety"
   ]
  },
  {
   "cell_type": "code",
   "execution_count": null,
   "id": "a978092e",
   "metadata": {},
   "outputs": [],
   "source": [
    "notcloseto_peers = conn_safety.loc[conn_safety['closeto_peers'].between(4,5)]\n",
    "notcloseto_peers"
   ]
  },
  {
   "cell_type": "code",
   "execution_count": null,
   "id": "fe695496",
   "metadata": {},
   "outputs": [],
   "source": [
    "A_students"
   ]
  },
  {
   "cell_type": "code",
   "execution_count": null,
   "id": "2a7df5ee",
   "metadata": {},
   "outputs": [],
   "source": [
    "A_students_notclose_peers = pd.merge(A_students, notcloseto_peers, how = 'left', on = 'AID')\n",
    "A_students_notclose_peers"
   ]
  },
  {
   "cell_type": "code",
   "execution_count": null,
   "id": "3e29857b",
   "metadata": {},
   "outputs": [],
   "source": [
    "A_students_notclose_peers.isna().sum()"
   ]
  },
  {
   "cell_type": "code",
   "execution_count": null,
   "id": "46e0b4d9",
   "metadata": {},
   "outputs": [],
   "source": [
    "C_below_notclose_peers = pd.merge(C_below_students, notcloseto_peers, how = 'left', on = 'AID')"
   ]
  },
  {
   "cell_type": "code",
   "execution_count": null,
   "id": "9a3bd794",
   "metadata": {},
   "outputs": [],
   "source": [
    "C_below_notclose_peers.isna().sum()"
   ]
  },
  {
   "cell_type": "code",
   "execution_count": null,
   "id": "9bee3b56",
   "metadata": {},
   "outputs": [],
   "source": [
    "student_info = pd.merge(grades, conn_safety, how = 'inner', on = 'AID')\n",
    "student_info"
   ]
  },
  {
   "cell_type": "code",
   "execution_count": null,
   "id": "5b8b6b03",
   "metadata": {},
   "outputs": [],
   "source": [
    "students_notclosepeers = student_info.loc[student_info['closeto_peers'].between(4,5)]\n",
    "students_notclosepeers"
   ]
  },
  {
   "cell_type": "code",
   "execution_count": null,
   "id": "bfba5b45",
   "metadata": {},
   "outputs": [],
   "source": [
    "students_notclosepeers['English'].value_counts()"
   ]
  },
  {
   "cell_type": "code",
   "execution_count": null,
   "id": "86e2fd5e",
   "metadata": {},
   "outputs": [],
   "source": [
    "students_notclosepeers['Math'].value_counts()"
   ]
  },
  {
   "cell_type": "code",
   "execution_count": null,
   "id": "0eb0efc7",
   "metadata": {},
   "outputs": [],
   "source": [
    "students_notclosepeers['History'].value_counts()"
   ]
  },
  {
   "cell_type": "code",
   "execution_count": null,
   "id": "83d978c1",
   "metadata": {},
   "outputs": [],
   "source": [
    "students_notclosepeers['Science'].value_counts()"
   ]
  },
  {
   "cell_type": "code",
   "execution_count": null,
   "id": "c2882172",
   "metadata": {},
   "outputs": [],
   "source": [
    "students_closetopeers = student_info.loc[student_info['closeto_peers'].between(1,2)]\n",
    "students_closetopeers"
   ]
  },
  {
   "cell_type": "code",
   "execution_count": null,
   "id": "59a644db",
   "metadata": {},
   "outputs": [],
   "source": [
    "students_closetopeers['English'].value_counts()"
   ]
  },
  {
   "cell_type": "code",
   "execution_count": null,
   "id": "866a8ac7",
   "metadata": {},
   "outputs": [],
   "source": [
    "students_closetopeers['Math'].value_counts()"
   ]
  },
  {
   "cell_type": "code",
   "execution_count": null,
   "id": "03e7fc3b",
   "metadata": {},
   "outputs": [],
   "source": [
    "students_closetopeers['Science'].value_counts()"
   ]
  },
  {
   "cell_type": "code",
   "execution_count": null,
   "id": "d75301d9",
   "metadata": {},
   "outputs": [],
   "source": [
    "students_closetopeers['History'].value_counts()"
   ]
  },
  {
   "cell_type": "markdown",
   "id": "d896a765",
   "metadata": {},
   "source": [
    "**Connection to Family**"
   ]
  },
  {
   "cell_type": "code",
   "execution_count": null,
   "id": "6af7e643",
   "metadata": {},
   "outputs": [],
   "source": [
    "conn_mom = pd.read_csv(r\"C:\\Users\\mnorm\\Documents\\NSS\\NSS-Capstone\\data\\National Longitudinal Study of Adolescent to Adult Health\\ICPSR_21600\\DS0001\\21600-0001-Data.tsv\", sep = '\\t', usecols = ['AID','H1PF1', 'H1PF2', 'H1PF3', 'H1PF4', 'H1PF5'], low_memory = False)\n",
    "conn_mom"
   ]
  },
  {
   "cell_type": "code",
   "execution_count": null,
   "id": "81922425",
   "metadata": {},
   "outputs": [],
   "source": [
    "conn_mom = conn_mom.rename(columns = {'H1PF1': 'loving_mom', 'H1PF2': 'independence_encouraged', 'H1PF3': 'understanding', 'H1PF4': 'communicate_well', 'H1PF5': 'good_relationship'})"
   ]
  },
  {
   "cell_type": "code",
   "execution_count": null,
   "id": "f75b6a88",
   "metadata": {},
   "outputs": [],
   "source": [
    "conn_mom"
   ]
  },
  {
   "cell_type": "code",
   "execution_count": null,
   "id": "d4e4d59d",
   "metadata": {},
   "outputs": [],
   "source": [
    "conn_safety_code"
   ]
  },
  {
   "cell_type": "code",
   "execution_count": null,
   "id": "4b668ab2",
   "metadata": {},
   "outputs": [],
   "source": [
    "conn_mom['loving_mom'].value_counts()"
   ]
  },
  {
   "cell_type": "code",
   "execution_count": null,
   "id": "945e1d8f",
   "metadata": {},
   "outputs": [],
   "source": [
    "conn_mom['independence_encouraged'].value_counts()"
   ]
  },
  {
   "cell_type": "code",
   "execution_count": null,
   "id": "95a4e36d",
   "metadata": {},
   "outputs": [],
   "source": [
    "conn_mom['understanding'].value_counts()"
   ]
  },
  {
   "cell_type": "code",
   "execution_count": null,
   "id": "8db9648b",
   "metadata": {},
   "outputs": [],
   "source": [
    "conn_mom['communicate_well'].value_counts()"
   ]
  },
  {
   "cell_type": "code",
   "execution_count": null,
   "id": "c4d2af44",
   "metadata": {},
   "outputs": [],
   "source": [
    "conn_mom['good_relationship'].value_counts()"
   ]
  },
  {
   "cell_type": "code",
   "execution_count": null,
   "id": "5d8cb6d4",
   "metadata": {},
   "outputs": [],
   "source": [
    "conn_mom.head(2)"
   ]
  },
  {
   "cell_type": "code",
   "execution_count": null,
   "id": "5b229398",
   "metadata": {},
   "outputs": [],
   "source": [
    "grade_mom_info = pd.merge(grades, conn_mom, how = 'inner', on = 'AID')\n",
    "grade_mom_info"
   ]
  },
  {
   "cell_type": "code",
   "execution_count": null,
   "id": "b2082fcd",
   "metadata": {},
   "outputs": [],
   "source": [
    "grades_goodmom = grade_mom_info.loc[(grade_mom_info['loving_mom'].between(1,2)) & (grade_mom_info['independence_encouraged'].between(1,2)) & (grade_mom_info['understanding'].between(1,2)) & (grade_mom_info['communicate_well'].between(1,2)) & (grade_mom_info['good_relationship'].between(1,2))]\n",
    "grades_goodmom.head(2)"
   ]
  },
  {
   "cell_type": "code",
   "execution_count": null,
   "id": "f03ca2cf",
   "metadata": {},
   "outputs": [],
   "source": [
    "grades_goodmom['English'].value_counts()"
   ]
  },
  {
   "cell_type": "code",
   "execution_count": null,
   "id": "b6532495",
   "metadata": {},
   "outputs": [],
   "source": [
    "grades_goodmom['Math'].value_counts()"
   ]
  },
  {
   "cell_type": "code",
   "execution_count": null,
   "id": "6ae6838c",
   "metadata": {},
   "outputs": [],
   "source": [
    "grades_goodmom['History'].value_counts()"
   ]
  },
  {
   "cell_type": "code",
   "execution_count": null,
   "id": "7cabaf74",
   "metadata": {},
   "outputs": [],
   "source": [
    "grades_goodmom['Science'].value_counts()"
   ]
  },
  {
   "cell_type": "code",
   "execution_count": null,
   "id": "e9ac3eb8",
   "metadata": {},
   "outputs": [],
   "source": [
    "grade_mom_info.head(2)"
   ]
  },
  {
   "cell_type": "markdown",
   "id": "615e104e",
   "metadata": {},
   "source": [
    "# Wave 3 EDA"
   ]
  },
  {
   "cell_type": "code",
   "execution_count": null,
   "id": "a03ddec6",
   "metadata": {},
   "outputs": [],
   "source": [
    "GPA = pd.read_csv(r\"C:\\Users\\mnorm\\Documents\\NSS\\NSS-Capstone\\data\\National Longitudinal Study of Adolescent to Adult Health\\ICPSR_21600\\DS0016\\21600-0016-Data.tsv\", sep = '\\t', usecols = ['AID','EAOGPA1', 'EAOGPA2', 'EAOGPA3', 'EAOGPA4', 'EAOGPA5', 'EAOGPA6', 'EAOGPAC'])\n",
    "GPA = GPA.rename(columns = {'AID' : 'AID', 'EAOGPA1' : 'year_1', 'EAOGPA2' : 'year_2', 'EAOGPA3' : 'year_3', 'EAOGPA4' : 'year_4', 'EAOGPA5' : 'year_5', 'EAOGPA6' : 'year_6', 'EAOGPAC' : 'cumulative'})\n",
    "GPA"
   ]
  },
  {
   "cell_type": "code",
   "execution_count": null,
   "id": "aebef744",
   "metadata": {},
   "outputs": [],
   "source": [
    "bins = [-1, 1, 2, 3 ,4]\n",
    "labels = ['0-1', '1-2', '2-3', '3-4']\n",
    "GPA['gpa_range'] = pd.cut(np.array(GPA['cumulative']), bins = bins, labels = labels)"
   ]
  },
  {
   "cell_type": "code",
   "execution_count": null,
   "id": "707047ec",
   "metadata": {},
   "outputs": [],
   "source": [
    "GPA"
   ]
  },
  {
   "cell_type": "code",
   "execution_count": null,
   "id": "70c63ac1",
   "metadata": {},
   "outputs": [],
   "source": [
    "GPA['gpa_range'].value_counts()"
   ]
  },
  {
   "cell_type": "code",
   "execution_count": null,
   "id": "d17db0b5",
   "metadata": {},
   "outputs": [],
   "source": [
    "GPA.sort_values(by = 'cumulative', ascending = False)"
   ]
  },
  {
   "cell_type": "code",
   "execution_count": null,
   "id": "b81f3a6b",
   "metadata": {},
   "outputs": [],
   "source": [
    "gpa_mom = pd.merge(GPA, conn_mom, how = 'inner', on = 'AID')\n",
    "gpa_mom.head()"
   ]
  },
  {
   "cell_type": "code",
   "execution_count": null,
   "id": "4e893208",
   "metadata": {},
   "outputs": [],
   "source": [
    "gpa_mom.groupby(['loving_mom','gpa_range']).count()"
   ]
  },
  {
   "cell_type": "code",
   "execution_count": null,
   "id": "6c3dfee6",
   "metadata": {},
   "outputs": [],
   "source": [
    "gpa_mom.groupby(['good_relationship', 'gpa_range']).count()"
   ]
  },
  {
   "cell_type": "code",
   "execution_count": null,
   "id": "dae72789",
   "metadata": {},
   "outputs": [],
   "source": [
    "gpa_peers = pd.merge(GPA, conn_safety, how = 'inner', on = 'AID')\n",
    "gpa_peers.head()"
   ]
  },
  {
   "cell_type": "code",
   "execution_count": null,
   "id": "735ebdb4",
   "metadata": {},
   "outputs": [],
   "source": [
    "graduation = pd.read_csv(r\"C:\\Users\\mnorm\\Documents\\NSS\\NSS-Capstone\\data\\National Longitudinal Study of Adolescent to Adult Health\\ICPSR_21600\\DS0017\\21600-0017-Data.tsv\", sep = '\\t')\n",
    "graduation = graduation.rename(columns = {'AID' : 'AID', 'EREXITST' : 'diploma_type', 'ERGRADM' : 'graduation_month', 'ERGRADY' : 'graduation_year'})\n",
    "graduation"
   ]
  },
  {
   "cell_type": "code",
   "execution_count": null,
   "id": "105fe63e",
   "metadata": {},
   "outputs": [],
   "source": [
    "dip_code = ['A', 'B', 'C', 'E' 'F', 'G', 'I', 'J', '92']\n",
    "dip_type = ['standard diploma', 'honors diploma', 'special education diploma', 'still enrolled', 'drop out', 'other non-graduate', 'certificate of completion', 'graduate equivalency diploma', 'no exit status recorded']\n",
    "\n",
    "diploma = pd.DataFrame(list(zip(dip_code, dip_type)))\n",
    "diploma = diploma.rename(columns = {0 : 'diploma_type', 1 : 'diploma'})\n",
    "diploma"
   ]
  },
  {
   "cell_type": "code",
   "execution_count": null,
   "id": "283669d4",
   "metadata": {},
   "outputs": [],
   "source": [
    "grad_dip = pd.merge(graduation, diploma, how = 'left', on = 'diploma_type')\n",
    "grad_dip"
   ]
  },
  {
   "cell_type": "code",
   "execution_count": null,
   "id": "7112a33b",
   "metadata": {},
   "outputs": [],
   "source": [
    "grad_dip['diploma'].value_counts()"
   ]
  },
  {
   "cell_type": "code",
   "execution_count": null,
   "id": "3b322f93",
   "metadata": {},
   "outputs": [],
   "source": [
    "drop_out = grad_dip.loc[grad_dip['diploma'] == 'drop out']\n",
    "len(drop_out)"
   ]
  },
  {
   "cell_type": "code",
   "execution_count": null,
   "id": "7913764b",
   "metadata": {},
   "outputs": [],
   "source": [
    "dropout_mom = pd.merge(drop_out, conn_mom, how = 'inner', on = 'AID')\n",
    "dropout_mom"
   ]
  },
  {
   "cell_type": "code",
   "execution_count": null,
   "id": "97af72c7",
   "metadata": {},
   "outputs": [],
   "source": [
    "dropout_mom['loving_mom'].value_counts()"
   ]
  },
  {
   "cell_type": "code",
   "execution_count": null,
   "id": "2b58de06",
   "metadata": {},
   "outputs": [],
   "source": [
    "dropout_mom['independence_encouraged'].value_counts()"
   ]
  },
  {
   "cell_type": "code",
   "execution_count": null,
   "id": "8d926ba2",
   "metadata": {},
   "outputs": [],
   "source": [
    "dropout_mom['understanding'].value_counts()"
   ]
  },
  {
   "cell_type": "code",
   "execution_count": null,
   "id": "9906f9e0",
   "metadata": {},
   "outputs": [],
   "source": [
    "dropout_mom['communicate_well'].value_counts()"
   ]
  },
  {
   "cell_type": "code",
   "execution_count": null,
   "id": "f83cdfa2",
   "metadata": {},
   "outputs": [],
   "source": [
    "dropout_mom['good_relationship'].value_counts()"
   ]
  },
  {
   "cell_type": "code",
   "execution_count": null,
   "id": "aed15bfc",
   "metadata": {},
   "outputs": [],
   "source": [
    "conn_safety"
   ]
  },
  {
   "cell_type": "code",
   "execution_count": null,
   "id": "400f793b",
   "metadata": {},
   "outputs": [],
   "source": [
    "dropout_peers = pd.merge(drop_out, conn_safety, how = 'inner', on = 'AID')\n",
    "len(dropout_peers)"
   ]
  },
  {
   "cell_type": "code",
   "execution_count": null,
   "id": "a8e97cd0",
   "metadata": {},
   "outputs": [],
   "source": [
    "conn_safety_code"
   ]
  },
  {
   "cell_type": "code",
   "execution_count": null,
   "id": "3395f888",
   "metadata": {},
   "outputs": [],
   "source": [
    "dropout_peers['closeto_peers'].value_counts(normalize = True)"
   ]
  },
  {
   "cell_type": "code",
   "execution_count": null,
   "id": "8532c780",
   "metadata": {},
   "outputs": [],
   "source": [
    "dropout_peers['partof_school'].value_counts(normalize = True)"
   ]
  },
  {
   "cell_type": "code",
   "execution_count": null,
   "id": "86a20730",
   "metadata": {},
   "outputs": [],
   "source": [
    "dropout_peers['students_prejudiced'].value_counts(normalize = True)"
   ]
  },
  {
   "cell_type": "code",
   "execution_count": null,
   "id": "66cd9190",
   "metadata": {},
   "outputs": [],
   "source": [
    "dropout_peers['happy_at_school'].value_counts(normalize = True)"
   ]
  },
  {
   "cell_type": "code",
   "execution_count": null,
   "id": "c81c5a62",
   "metadata": {},
   "outputs": [],
   "source": [
    "dropout_peers['safein_school'].value_counts(normalize = True)"
   ]
  },
  {
   "cell_type": "markdown",
   "id": "d0109a61",
   "metadata": {},
   "source": [
    "# Wave 4 EDA"
   ]
  },
  {
   "cell_type": "markdown",
   "id": "e03ad172",
   "metadata": {},
   "source": [
    "**Academic Attainment**"
   ]
  },
  {
   "cell_type": "code",
   "execution_count": null,
   "id": "44ec4448",
   "metadata": {},
   "outputs": [],
   "source": [
    "attainment = pd.read_csv(r\"C:\\Users\\mnorm\\Documents\\NSS\\NSS-Capstone\\data\\National Longitudinal Study of Adolescent to Adult Health\\ICPSR_21600\\DS0022\\21600-0022-Data.tsv\", sep = '\\t', usecols = ['AID','H4ED1', 'H4ED3A', 'H4ED8', 'H4ED9'], low_memory = False)\n",
    "attainment = attainment.rename(columns = {'AID':'AID', 'H4ED1':'hs_grad_status', 'H4ED3A':'most_recent_degree', 'H4ED8':'desired_educ_level', 'H4ED9': 'educ_expected'})\n",
    "attainment"
   ]
  },
  {
   "cell_type": "code",
   "execution_count": null,
   "id": "7862d125",
   "metadata": {},
   "outputs": [],
   "source": [
    "attainment['hs_grad_status'].value_counts()\n",
    "#1: finished hs\n",
    "#2: GED\n",
    "#3: certificate of attendance/completion\n",
    "#4: no diploma or GED"
   ]
  },
  {
   "cell_type": "code",
   "execution_count": null,
   "id": "12b88914",
   "metadata": {},
   "outputs": [],
   "source": [
    "attainment['most_recent_degree'].value_counts()\n",
    "#97: legitimate skip\n",
    "#4: bachelors\n",
    "#1: no degree/certificate\n",
    "#2: certificate or degree from a 1-, 2-, or 3-year vocational/technical program\n",
    "#3: associate\n",
    "#6: masters\n",
    "#8: doctorate\n",
    "#5: certificate from a 1- or 2-year post baccalaureate academic program\n",
    "#7: phd\n"
   ]
  },
  {
   "cell_type": "code",
   "execution_count": null,
   "id": "6d1862f4",
   "metadata": {},
   "outputs": [],
   "source": [
    "attainment['desired_educ_level'].value_counts()\n",
    "#2: desired education level not achieved but believe they will\n",
    "#1: desired education level achieved\n",
    "#3: desired education level not achieved and believe they won't\n",
    "#8: don't know\n",
    "#6: refused"
   ]
  },
  {
   "cell_type": "code",
   "execution_count": null,
   "id": "3d2865d7",
   "metadata": {},
   "outputs": [],
   "source": []
  }
 ],
 "metadata": {
  "kernelspec": {
   "display_name": "Python 3 (ipykernel)",
   "language": "python",
   "name": "python3"
  },
  "language_info": {
   "codemirror_mode": {
    "name": "ipython",
    "version": 3
   },
   "file_extension": ".py",
   "mimetype": "text/x-python",
   "name": "python",
   "nbconvert_exporter": "python",
   "pygments_lexer": "ipython3",
   "version": "3.9.7"
  },
  "widgets": {
   "application/vnd.jupyter.widget-state+json": {
    "state": {},
    "version_major": 2,
    "version_minor": 0
   }
  }
 },
 "nbformat": 4,
 "nbformat_minor": 5
}
