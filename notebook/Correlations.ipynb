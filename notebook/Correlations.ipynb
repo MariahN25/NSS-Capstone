{
 "cells": [
  {
   "cell_type": "code",
   "execution_count": null,
   "id": "2d3b6808",
   "metadata": {},
   "outputs": [],
   "source": [
    "import pandas as pd\n",
    "import numpy as np\n",
    "import matplotlib.pyplot as plt\n",
    "import seaborn as sns\n",
    "from functools import reduce\n",
    "%matplotlib inline"
   ]
  },
  {
   "cell_type": "markdown",
   "id": "934db0c1",
   "metadata": {},
   "source": [
    "Merging Waves"
   ]
  },
  {
   "cell_type": "code",
   "execution_count": null,
   "id": "a60ffbb8",
   "metadata": {},
   "outputs": [],
   "source": [
    "wave1 = pd.read_csv(r\"C:\\Users\\mnorm\\Documents\\NSS\\NSS-Capstone\\data\\National Longitudinal Study of Adolescent to Adult Health\\ICPSR_21600\\DS0001\\21600-0001-Data.tsv\", sep = '\\t', usecols = ['AID'])\n",
    "wave3educ = pd.read_csv(r\"C:\\Users\\mnorm\\Documents\\NSS\\NSS-Capstone\\data\\National Longitudinal Study of Adolescent to Adult Health\\ICPSR_21600\\DS0016\\21600-0016-Data.tsv\", sep = '\\t', usecols = ['AID'])\n",
    "wave3grad = pd.read_csv(r\"C:\\Users\\mnorm\\Documents\\NSS\\NSS-Capstone\\data\\National Longitudinal Study of Adolescent to Adult Health\\ICPSR_21600\\DS0017\\21600-0017-Data.tsv\", sep = '\\t', usecols = ['AID'])\n",
    "wave4 = pd.read_csv(r\"C:\\Users\\mnorm\\Documents\\NSS\\NSS-Capstone\\data\\National Longitudinal Study of Adolescent to Adult Health\\ICPSR_21600\\DS0022\\21600-0022-Data.tsv\", sep = '\\t', usecols = ['AID'])"
   ]
  },
  {
   "cell_type": "code",
   "execution_count": null,
   "id": "d130834d",
   "metadata": {},
   "outputs": [],
   "source": [
    "waves = [wave1, wave3educ, wave3grad, wave4]\n",
    "AID = reduce(lambda left, right: pd.merge(left, right, on = 'AID', how = 'inner'), waves)\n",
    "len(AID)"
   ]
  },
  {
   "cell_type": "markdown",
   "id": "95ab8bff",
   "metadata": {},
   "source": [
    "GPA"
   ]
  },
  {
   "cell_type": "code",
   "execution_count": null,
   "id": "4ee3b641",
   "metadata": {},
   "outputs": [],
   "source": [
    "hs_gpa = pd.read_csv(r\"C:\\Users\\mnorm\\Documents\\NSS\\NSS-Capstone\\data\\National Longitudinal Study of Adolescent to Adult Health\\ICPSR_21600\\DS0016\\21600-0016-Data.tsv\", sep = '\\t', usecols = ['AID', 'EAOGPAC'])\n",
    "hs_gpa = hs_gpa.rename(columns = {'AID': 'AID', 'EAOGPAC': 'cumulative_gpa'})\n",
    "hs_gpa = pd.merge(AID, hs_gpa, on = 'AID', how = 'left')\n",
    "#hs_gpa.isna().sum() #check for nulls to make sure the AID matched\n",
    "bins = [-1, 1, 2, 3 ,4]\n",
    "labels = ['0-1', '1-2', '2-3', '3-4']\n",
    "hs_gpa['gpa_range'] = pd.cut(np.array(hs_gpa['cumulative_gpa']), bins = bins, labels = labels)\n",
    "hs_gpa = hs_gpa.drop(hs_gpa[hs_gpa['cumulative_gpa'] == 9995].index)\n",
    "hs_gpa"
   ]
  },
  {
   "cell_type": "markdown",
   "id": "3cb5465f",
   "metadata": {},
   "source": [
    "Grades -- Wave 1"
   ]
  },
  {
   "cell_type": "code",
   "execution_count": null,
   "id": "1a848fbd",
   "metadata": {},
   "outputs": [],
   "source": [
    "grades = pd.read_csv(r\"\\Users\\mnorm\\Documents\\NSS\\NSS-Capstone\\data\\National Longitudinal Study of Adolescent to Adult Health\\ICPSR_21600\\DS0001\\21600-0001-Data.tsv\", sep = '\\t', usecols = ['AID','H1ED11', 'H1ED12', 'H1ED13', 'H1ED14'], low_memory = False)\n",
    "grades = grades.rename(columns = {'AID': 'AID','H1ED11': 'English', 'H1ED12' : 'Math', 'H1ED13' : 'History', 'H1ED14' : 'Science'})\n",
    "grades"
   ]
  },
  {
   "cell_type": "code",
   "execution_count": null,
   "id": "408498d4",
   "metadata": {},
   "outputs": [],
   "source": [
    "grades[['English', 'Math', 'History', 'Science']].corr()"
   ]
  },
  {
   "cell_type": "markdown",
   "id": "af5a6333",
   "metadata": {},
   "source": [
    "Academic Attainment"
   ]
  },
  {
   "cell_type": "code",
   "execution_count": null,
   "id": "53d619e4",
   "metadata": {},
   "outputs": [],
   "source": [
    "highest_educ = pd.read_excel(r\"C:\\Users\\mnorm\\Documents\\NSS\\NSS-Capstone\\data\\Wave 4 Questionaire .xlsx\", 'highest_educ_level')\n",
    "highest_educ = highest_educ.rename(columns = highest_educ.iloc[0])\n",
    "highest_educ = highest_educ.drop(highest_educ.index[0])\n",
    "highest_educ = highest_educ[['Value', 'Label']]\n",
    "highest_educ"
   ]
  },
  {
   "cell_type": "code",
   "execution_count": null,
   "id": "a6803266",
   "metadata": {},
   "outputs": [],
   "source": [
    "value = [1,2,3,4,5,6,7,8,9,10,11,12,13,98]\n",
    "educ = ['8th grade or less', 'some high school', 'high school graduate', 'some vocational/technical training', 'completed vocational/technical training', 'some college', \"completed college (bachelor's degree)\", 'some graduate school', \"completed a master's degree\", \"some graduate training beyond a master's degree\", 'completed a doctoral degree', 'some post baccalaureate professional education', 'completed post baccalaureate professional education', \"don't know\"]\n",
    "\n",
    "educ_code = pd.DataFrame(list(zip(value, educ)), columns = ['Value', 'Highest_educ_level'])"
   ]
  },
  {
   "cell_type": "code",
   "execution_count": null,
   "id": "a850fd68",
   "metadata": {},
   "outputs": [],
   "source": [
    "high_educ = pd.read_csv(r\"C:\\Users\\mnorm\\Documents\\NSS\\NSS-Capstone\\data\\National Longitudinal Study of Adolescent to Adult Health\\ICPSR_21600\\DS0022\\21600-0022-Data.tsv\", sep = '\\t', usecols = ['AID', 'H4ED2'])\n",
    "high_educ = high_educ.rename(columns = {'H4ED2':'Value'})\n",
    "high_educ"
   ]
  },
  {
   "cell_type": "code",
   "execution_count": null,
   "id": "1e3f88dd",
   "metadata": {},
   "outputs": [],
   "source": [
    "#high_educ['Value'].value_counts()"
   ]
  },
  {
   "cell_type": "code",
   "execution_count": null,
   "id": "3aefda15",
   "metadata": {},
   "outputs": [],
   "source": [
    "educ_level = pd.merge(high_educ, educ_code, on='Value', how='left')\n",
    "educ_level"
   ]
  },
  {
   "cell_type": "code",
   "execution_count": null,
   "id": "d40d7e18",
   "metadata": {},
   "outputs": [],
   "source": [
    "educ_level.isna().sum()"
   ]
  },
  {
   "cell_type": "markdown",
   "id": "9822bb87",
   "metadata": {},
   "source": [
    "Peers"
   ]
  },
  {
   "cell_type": "code",
   "execution_count": null,
   "id": "778a1ca8",
   "metadata": {},
   "outputs": [],
   "source": [
    "peers = pd.read_csv(r\"C:\\Users\\mnorm\\Documents\\NSS\\NSS-Capstone\\data\\National Longitudinal Study of Adolescent to Adult Health\\ICPSR_21600\\DS0001\\21600-0001-Data.tsv\", sep = '\\t', usecols = ['AID','H1ED18','H1ED19', 'H1ED24'])\n",
    "peers = peers.rename(columns = {'H1ED18':'getting_along','H1ED19':'close_peers','H1ED24':'safe_school'})\n",
    "peers = pd.merge(AID, peers, how = 'left', on = 'AID')\n",
    "#peers.isna().sum()\n",
    "#peers['getting_along'].value_counts() # get rid of 7 (57 ppl)\n",
    "#peers['close_peers'].value_counts() #get rid of 7 (57 ppl) and 8 (1)\n",
    "#len(peers.loc[peers['getting_along'] == 7])#= 57, same 57 state 7\n",
    "#peers.loc[peers['close_peers'] == 8] # keep this value b/c they have answers for the other columns\n",
    "peers = peers.drop(peers[peers['getting_along'] == 7].index)\n",
    "peers"
   ]
  },
  {
   "cell_type": "code",
   "execution_count": null,
   "id": "9e0c569a",
   "metadata": {},
   "outputs": [],
   "source": [
    "code_ga = [0,1,2,3,4,6,7,8]\n",
    "value_ga = ['never', 'just a few times', 'about once a week', 'almost everyday', 'everyday', 'refused', 'legitimate skip', \"don’t know\"]\n",
    "ga_code = pd.DataFrame(list(zip(code_ga, value_ga)), columns = ['getting_along', 'ga_code'])"
   ]
  },
  {
   "cell_type": "code",
   "execution_count": null,
   "id": "ca264f94",
   "metadata": {},
   "outputs": [],
   "source": [
    "peers = pd.merge(peers, ga_code, how = 'left', on = 'getting_along')"
   ]
  },
  {
   "cell_type": "code",
   "execution_count": null,
   "id": "2ec691d5",
   "metadata": {},
   "outputs": [],
   "source": [
    "code_agree = [1,2,3,4,5,6,7,8]\n",
    "value_agree = ['strongly agree', 'agree', 'neither agree nor disagree', 'disagree', 'strongly disagree', 'refused', 'legitimate skip', \"don't know\"]\n",
    "\n",
    "cp_code = pd.DataFrame(list(zip(code_agree, value_agree)), columns = ['close_peers', 'close_peers_code'])\n",
    "cp_code\n",
    "\n",
    "ss_code = pd.DataFrame(list(zip(code_agree, value_agree)), columns = ['safe_school', 'safe_school_code'])\n",
    "ss_code"
   ]
  },
  {
   "cell_type": "code",
   "execution_count": null,
   "id": "8ea4ea28",
   "metadata": {},
   "outputs": [],
   "source": [
    "peers = pd.merge(peers, cp_code, on = 'close_peers', how = 'left')\n",
    "peers"
   ]
  },
  {
   "cell_type": "code",
   "execution_count": null,
   "id": "34aaaf64",
   "metadata": {},
   "outputs": [],
   "source": [
    "peers = pd.merge(peers, ss_code, on = 'safe_school', how = 'left')\n",
    "peers"
   ]
  },
  {
   "cell_type": "code",
   "execution_count": null,
   "id": "7b61a734",
   "metadata": {},
   "outputs": [],
   "source": [
    "peers = pd.merge(peers, hs_gpa, on = 'AID', how = 'inner')\n",
    "len(peers)"
   ]
  },
  {
   "cell_type": "code",
   "execution_count": null,
   "id": "2d624c7a",
   "metadata": {},
   "outputs": [],
   "source": [
    "peers[['getting_along', 'close_peers', 'safe_school', 'cumulative_gpa']].corr()"
   ]
  },
  {
   "cell_type": "code",
   "execution_count": null,
   "id": "cc2cacda",
   "metadata": {},
   "outputs": [],
   "source": [
    "peer_grades = pd.merge(peers, grades, on = 'AID', how = 'inner')\n",
    "peer_grades"
   ]
  },
  {
   "cell_type": "code",
   "execution_count": null,
   "id": "f4d8e01b",
   "metadata": {},
   "outputs": [],
   "source": [
    "peer_grades[['getting_along', 'close_peers', 'safe_school','English', 'Math', 'History', 'Science']].corr()"
   ]
  },
  {
   "cell_type": "code",
   "execution_count": null,
   "id": "2456ca15",
   "metadata": {},
   "outputs": [],
   "source": [
    "peer_grades[['English', 'Math', 'History', 'Science', 'cumulative_gpa']].corr()"
   ]
  },
  {
   "cell_type": "code",
   "execution_count": null,
   "id": "1bf63a89",
   "metadata": {},
   "outputs": [],
   "source": [
    "peer_educ_level = pd.merge(peer_grades, educ_level, how = 'left', on = 'AID')\n",
    "peer_educ_level['Value'].value_counts()\n",
    "len(peer_educ_level)"
   ]
  },
  {
   "cell_type": "code",
   "execution_count": null,
   "id": "d9376df4",
   "metadata": {},
   "outputs": [],
   "source": [
    "peer_educ_level[['getting_along','close_peers', 'safe_school', 'cumulative_gpa', 'Value']].corr()"
   ]
  },
  {
   "cell_type": "code",
   "execution_count": null,
   "id": "e68e1850",
   "metadata": {},
   "outputs": [],
   "source": [
    "peer_educ_level.head()"
   ]
  },
  {
   "cell_type": "code",
   "execution_count": null,
   "id": "9289eaba",
   "metadata": {},
   "outputs": [],
   "source": [
    "peer_educ_level.isna().sum()"
   ]
  },
  {
   "cell_type": "code",
   "execution_count": null,
   "id": "f48f9c0f",
   "metadata": {},
   "outputs": [],
   "source": [
    "peer_educ_level.to_csv('peers.csv')"
   ]
  },
  {
   "cell_type": "markdown",
   "id": "f97a6dac",
   "metadata": {},
   "source": [
    "Friends"
   ]
  },
  {
   "cell_type": "code",
   "execution_count": null,
   "id": "7dad539c",
   "metadata": {},
   "outputs": [],
   "source": [
    "friends = pd.read_csv(r\"C:\\Users\\mnorm\\Documents\\NSS\\NSS-Capstone\\data\\National Longitudinal Study of Adolescent to Adult Health\\ICPSR_21600\\DS0001\\21600-0001-Data.tsv\", sep = '\\t', usecols = ['AID','H1PR4'])\n",
    "friends = friends.rename(columns = {'H1PR4': 'caring_friends'})\n",
    "friends = pd.merge(AID, friends, how = 'left', on = 'AID')\n",
    "#friends.isna().sum()\n",
    "#friends['caring_friends'].value_counts() #drop 6, 96, 98\n",
    "friends = friends.drop(friends[(friends['caring_friends'] == 6) |(friends['caring_friends'] == 96) | (friends['caring_friends'] == 98)].index)\n",
    "friends"
   ]
  },
  {
   "cell_type": "code",
   "execution_count": null,
   "id": "95f0952e",
   "metadata": {},
   "outputs": [],
   "source": [
    "friends = pd.merge(friends, hs_gpa, on = 'AID', how = 'inner')\n",
    "len(friends)"
   ]
  },
  {
   "cell_type": "code",
   "execution_count": null,
   "id": "588bde89",
   "metadata": {},
   "outputs": [],
   "source": [
    "friends[['caring_friends', 'cumulative_gpa']].corr()"
   ]
  },
  {
   "cell_type": "code",
   "execution_count": null,
   "id": "859da6ba",
   "metadata": {},
   "outputs": [],
   "source": [
    "friends_grades = pd.merge(friends, grades, on = 'AID', how = 'inner')\n",
    "friends_grades"
   ]
  },
  {
   "cell_type": "code",
   "execution_count": null,
   "id": "000a103d",
   "metadata": {},
   "outputs": [],
   "source": [
    "friends_grades[['caring_friends', 'English', 'Math', 'History', 'Science']].corr()"
   ]
  },
  {
   "cell_type": "code",
   "execution_count": null,
   "id": "b61bbd2c",
   "metadata": {},
   "outputs": [],
   "source": [
    "friends_grades[['cumulative_gpa', 'English', 'Math', 'History', 'Science']].corr()"
   ]
  },
  {
   "cell_type": "code",
   "execution_count": null,
   "id": "38f2308f",
   "metadata": {},
   "outputs": [],
   "source": [
    "friends_educ_level = pd.merge(friends_grades, educ_level, how = 'left', on = 'AID')\n",
    "friends_educ_level['Value'].value_counts()\n",
    "len(friends_educ_level)"
   ]
  },
  {
   "cell_type": "code",
   "execution_count": null,
   "id": "04f1fdfa",
   "metadata": {},
   "outputs": [],
   "source": [
    "friends_educ_level[['caring_friends', 'cumulative_gpa', 'Value']].corr()"
   ]
  },
  {
   "cell_type": "code",
   "execution_count": null,
   "id": "1d7da4d5",
   "metadata": {},
   "outputs": [],
   "source": [
    "friends_educ_level.plot(kind = 'scatter',\n",
    "                       x = 'caring_friends',\n",
    "                       y = 'cumulative_gpa',\n",
    "                       figsize = (10,6))"
   ]
  },
  {
   "cell_type": "code",
   "execution_count": null,
   "id": "a86bdd29",
   "metadata": {},
   "outputs": [],
   "source": [
    "friends_educ_level.to_csv('friends.csv')"
   ]
  },
  {
   "cell_type": "code",
   "execution_count": null,
   "id": "f46f3ffa",
   "metadata": {},
   "outputs": [],
   "source": [
    "friends_educ_level"
   ]
  },
  {
   "cell_type": "code",
   "execution_count": null,
   "id": "2f583620",
   "metadata": {},
   "outputs": [],
   "source": [
    "code = [1,2,3,4,5,6,96,98]\n",
    "value = ['not at all', 'very little', 'somewhat', 'quite a bit', 'very much', 'does not apply', 'refused', \"don’t know\"]\n",
    "\n",
    "code_cf = pd.DataFrame(list(zip(code, value)), columns = ['caring_friends','caring_friends_code'])"
   ]
  },
  {
   "cell_type": "code",
   "execution_count": null,
   "id": "aafd6deb",
   "metadata": {},
   "outputs": [],
   "source": [
    "friends_code = pd.merge(friends_educ_level, code_cf, how = 'left', on = 'caring_friends')\n",
    "friends_code"
   ]
  },
  {
   "cell_type": "code",
   "execution_count": null,
   "id": "9985b85a",
   "metadata": {},
   "outputs": [],
   "source": [
    "friends_code.to_csv('friends.csv')"
   ]
  },
  {
   "cell_type": "markdown",
   "id": "20a27d82",
   "metadata": {},
   "source": [
    "Mom and Dad Code"
   ]
  },
  {
   "cell_type": "code",
   "execution_count": null,
   "id": "2886f9f0",
   "metadata": {},
   "outputs": [],
   "source": [
    "code_rel = [1,2,3,4,5,6,7,8]\n",
    "value_rel = ['not at all', 'very little', 'somewhat', 'quite a bit', 'very much', 'refused', 'legitimate skip', \"don't know\"]"
   ]
  },
  {
   "cell_type": "markdown",
   "id": "9addabe7",
   "metadata": {},
   "source": [
    "Mom -- Relationship"
   ]
  },
  {
   "cell_type": "code",
   "execution_count": null,
   "id": "50881d2c",
   "metadata": {},
   "outputs": [],
   "source": [
    "mom = pd.read_csv(r\"C:\\Users\\mnorm\\Documents\\NSS\\NSS-Capstone\\data\\National Longitudinal Study of Adolescent to Adult Health\\ICPSR_21600\\DS0001\\21600-0001-Data.tsv\", sep = '\\t', usecols = ['AID','H1WP9', 'H1WP10'])\n",
    "mom = mom.rename(columns = {'H1WP9': 'mom_close', 'H1WP10': 'caring_mom'})\n",
    "mom = pd.merge(AID, mom, how = 'left', on = 'AID')\n",
    "mom.isna().sum()\n",
    "mom['mom_close'].value_counts() #drop 8 and 6 (2 each) and 7 (148)\n",
    "mom['caring_mom'].value_counts() #drop 8 and 6 if overlap (1 each) and 7 (148)\n",
    "mom.loc[(mom['mom_close'] == 6) | (mom['mom_close'] == 8)]\n",
    "mom = mom.drop(mom[mom['mom_close'] == 7].index)\n",
    "mom = mom.drop([1097, 3054])\n",
    "mom"
   ]
  },
  {
   "cell_type": "code",
   "execution_count": null,
   "id": "5bfb084b",
   "metadata": {},
   "outputs": [],
   "source": [
    "mc_code = pd.DataFrame(list(zip(code_rel, value_rel)), columns = ['mom_close', 'mom_close_code'])\n",
    "cm_code = pd.DataFrame(list(zip(code_rel, value_rel)), columns = ['caring_mom', 'caring_mom_code'])"
   ]
  },
  {
   "cell_type": "code",
   "execution_count": null,
   "id": "07b6dacb",
   "metadata": {},
   "outputs": [],
   "source": [
    "mom = pd.merge(mom, mc_code, how = 'left', on = 'mom_close')"
   ]
  },
  {
   "cell_type": "code",
   "execution_count": null,
   "id": "b507015b",
   "metadata": {},
   "outputs": [],
   "source": [
    "mom = pd.merge(mom, cm_code, how = 'left', on = 'caring_mom')"
   ]
  },
  {
   "cell_type": "code",
   "execution_count": null,
   "id": "47180862",
   "metadata": {},
   "outputs": [],
   "source": [
    "mom = pd.merge(mom, hs_gpa, how = 'inner', on = 'AID')\n",
    "mom"
   ]
  },
  {
   "cell_type": "code",
   "execution_count": null,
   "id": "7f1243ec",
   "metadata": {},
   "outputs": [],
   "source": [
    "mom[['mom_close', 'caring_mom', 'cumulative_gpa']].corr()"
   ]
  },
  {
   "cell_type": "code",
   "execution_count": null,
   "id": "1032d485",
   "metadata": {},
   "outputs": [],
   "source": [
    "mom_grades = pd.merge(mom, grades, on = 'AID', how = 'inner')\n",
    "mom_grades"
   ]
  },
  {
   "cell_type": "code",
   "execution_count": null,
   "id": "6a90b2d4",
   "metadata": {},
   "outputs": [],
   "source": [
    "mom_grades[['mom_close', 'caring_mom', 'English', 'Math', 'History', 'Science']].corr()"
   ]
  },
  {
   "cell_type": "code",
   "execution_count": null,
   "id": "a84ac202",
   "metadata": {},
   "outputs": [],
   "source": [
    "mom_grades[['cumulative_gpa', 'English', 'Math', 'History', 'Science']].corr()"
   ]
  },
  {
   "cell_type": "code",
   "execution_count": null,
   "id": "03527d2f",
   "metadata": {},
   "outputs": [],
   "source": [
    "mom_educ_level = pd.merge(mom_grades, educ_level, how = 'left', on = 'AID')\n",
    "mom_educ_level['Value'].value_counts()\n",
    "mom_educ_level.head()"
   ]
  },
  {
   "cell_type": "code",
   "execution_count": null,
   "id": "daa5ec32",
   "metadata": {},
   "outputs": [],
   "source": [
    "mom_educ_level[['mom_close', 'caring_mom', 'cumulative_gpa', 'Value']].corr()"
   ]
  },
  {
   "cell_type": "code",
   "execution_count": null,
   "id": "f6f804c3",
   "metadata": {},
   "outputs": [],
   "source": [
    "mom_educ_level['gpa_range'].value_counts()"
   ]
  },
  {
   "cell_type": "code",
   "execution_count": null,
   "id": "c8c5e5c4",
   "metadata": {},
   "outputs": [],
   "source": [
    "mom_educ_level.to_csv('mom.csv')"
   ]
  },
  {
   "cell_type": "markdown",
   "id": "4589cb18",
   "metadata": {},
   "source": [
    "Mom -- View on School -- Disappointed if they don't graduate college/hs "
   ]
  },
  {
   "cell_type": "code",
   "execution_count": null,
   "id": "71dccbe2",
   "metadata": {},
   "outputs": [],
   "source": [
    "mom_school = pd.read_csv(r\"C:\\Users\\mnorm\\Documents\\NSS\\NSS-Capstone\\data\\National Longitudinal Study of Adolescent to Adult Health\\ICPSR_21600\\DS0001\\21600-0001-Data.tsv\", sep = '\\t', usecols = ['AID', 'H1WP11', 'H1WP12'])\n",
    "mom_school = mom_school.rename(columns = {'H1WP11': 'graduate_college', 'H1WP12': 'graduate_hs'})\n",
    "mom_school = pd.merge(AID, mom_school, on = 'AID', how = 'left')\n",
    "mom_school.isna().sum()\n",
    "mom_school['graduate_college'].value_counts() #drop 6(1) and 8(7) and 7 (148)\n",
    "mom_school['graduate_hs'].value_counts() #drop 6 (2), 8 (7), 9(1) that overlap and 7 (148)\n",
    "mom_school.loc[(mom_school['graduate_hs'] == 6) | (mom_school['graduate_hs'] == 8) | (mom_school['graduate_hs'] == 9)]\n",
    "mom_school = mom_school.drop([1097, 2736, 2892, 3054])\n",
    "mom_school = mom_school.drop(mom_school[mom_school['graduate_hs'] == 7].index)\n",
    "mom_school"
   ]
  },
  {
   "cell_type": "code",
   "execution_count": null,
   "id": "aa4c6da0",
   "metadata": {},
   "outputs": [],
   "source": [
    "mom_school = pd.merge(mom_school, hs_gpa, on = 'AID', how = 'inner')\n",
    "mom_school"
   ]
  },
  {
   "cell_type": "code",
   "execution_count": null,
   "id": "9ff65f4b",
   "metadata": {},
   "outputs": [],
   "source": [
    "mom_school[['graduate_college', 'graduate_hs', 'cumulative_gpa']].corr()"
   ]
  },
  {
   "cell_type": "code",
   "execution_count": null,
   "id": "91250550",
   "metadata": {},
   "outputs": [],
   "source": [
    "mom_school_grades = pd.merge(mom_school, grades, on = 'AID', how = 'inner')\n",
    "mom_school_grades"
   ]
  },
  {
   "cell_type": "code",
   "execution_count": null,
   "id": "97536322",
   "metadata": {},
   "outputs": [],
   "source": [
    "mom_school_grades[['graduate_college', 'graduate_hs','English', 'Math', 'History', 'Science']].corr()"
   ]
  },
  {
   "cell_type": "code",
   "execution_count": null,
   "id": "645400cb",
   "metadata": {},
   "outputs": [],
   "source": [
    "mom_school_grades[['cumulative_gpa', 'English', 'Math', 'History', 'Science']].corr()"
   ]
  },
  {
   "cell_type": "code",
   "execution_count": null,
   "id": "013fc8ea",
   "metadata": {},
   "outputs": [],
   "source": [
    "mom_grad_level = pd.merge(mom_school_grades, educ_level, how = 'left', on = 'AID')\n",
    "mom_grad_level['Value'].value_counts()\n",
    "mom_grad_level.head()"
   ]
  },
  {
   "cell_type": "code",
   "execution_count": null,
   "id": "b621c0d7",
   "metadata": {},
   "outputs": [],
   "source": [
    "mom_grad_level[['graduate_college', 'graduate_hs', 'cumulative_gpa', 'Value']].corr()"
   ]
  },
  {
   "cell_type": "code",
   "execution_count": null,
   "id": "89db2839",
   "metadata": {},
   "outputs": [],
   "source": [
    "mom_grad_level.to_csv('mom_grad.csv')"
   ]
  },
  {
   "cell_type": "markdown",
   "id": "99db4def",
   "metadata": {},
   "source": [
    "Dad -- Relationship"
   ]
  },
  {
   "cell_type": "code",
   "execution_count": null,
   "id": "49a83e00",
   "metadata": {},
   "outputs": [],
   "source": [
    "#significantly more kids who don't have dads (value 7) than who don't have moms\n",
    "dad = pd.read_csv(r\"C:\\Users\\mnorm\\Documents\\NSS\\NSS-Capstone\\data\\National Longitudinal Study of Adolescent to Adult Health\\ICPSR_21600\\DS0001\\21600-0001-Data.tsv\", sep = '\\t', usecols = ['AID', 'H1WP13', 'H1WP14'])\n",
    "dad = dad.rename(columns = {'H1WP13':'dad_close', 'H1WP14':'caring_dad'})\n",
    "dad = pd.merge(AID, dad, how = 'left', on = 'AID')\n",
    "dad.isna().sum()\n",
    "dad['dad_close'].value_counts() #drop 6(1), 7 (904)\n",
    "dad['caring_dad'].value_counts() #drop 6(1), 7 (904)\n",
    "dad = dad.drop(dad[(dad['dad_close'] == 7) | (dad['dad_close'] == 6)].index)\n",
    "dad"
   ]
  },
  {
   "cell_type": "code",
   "execution_count": null,
   "id": "9c449cc2",
   "metadata": {},
   "outputs": [],
   "source": [
    "dc_code = pd.DataFrame(list(zip(code_rel, value_rel)), columns = ['dad_close', 'dad_close_code'])\n",
    "cd_code = pd.DataFrame(list(zip(code_rel, value_rel)), columns = ['caring_dad', 'caring_dad_code'])"
   ]
  },
  {
   "cell_type": "code",
   "execution_count": null,
   "id": "8499a21a",
   "metadata": {},
   "outputs": [],
   "source": [
    "dad = pd.merge(dad, dc_code, how = 'left', on = 'dad_close')\n",
    "dad"
   ]
  },
  {
   "cell_type": "code",
   "execution_count": null,
   "id": "53740d18",
   "metadata": {},
   "outputs": [],
   "source": [
    "dad = pd.merge(dad, cd_code, how = 'left', on = 'caring_dad')\n",
    "dad"
   ]
  },
  {
   "cell_type": "code",
   "execution_count": null,
   "id": "74b3a8e0",
   "metadata": {},
   "outputs": [],
   "source": [
    "dad = pd.merge(dad, hs_gpa, on = 'AID', how = 'inner')\n",
    "dad"
   ]
  },
  {
   "cell_type": "code",
   "execution_count": null,
   "id": "204036be",
   "metadata": {},
   "outputs": [],
   "source": [
    "dad[['dad_close', 'caring_dad', 'cumulative_gpa']].corr()"
   ]
  },
  {
   "cell_type": "code",
   "execution_count": null,
   "id": "f283537f",
   "metadata": {},
   "outputs": [],
   "source": [
    "dad_grades = pd.merge(dad, grades, on = 'AID', how = 'inner')\n",
    "dad_grades"
   ]
  },
  {
   "cell_type": "code",
   "execution_count": null,
   "id": "18edd1d7",
   "metadata": {},
   "outputs": [],
   "source": [
    "dad_grades[['dad_close', 'caring_dad','English', 'Math', 'History', 'Science']].corr()"
   ]
  },
  {
   "cell_type": "code",
   "execution_count": null,
   "id": "6b3c6abc",
   "metadata": {},
   "outputs": [],
   "source": [
    "dad_grades[['cumulative_gpa', 'English', 'Math', 'History', 'Science']].corr()"
   ]
  },
  {
   "cell_type": "code",
   "execution_count": null,
   "id": "0db92ce5",
   "metadata": {},
   "outputs": [],
   "source": [
    "dad_educ_level = pd.merge(dad_grades, educ_level, how = 'left', on = 'AID')\n",
    "dad_educ_level['Value'].value_counts()\n",
    "dad_educ_level.head()"
   ]
  },
  {
   "cell_type": "code",
   "execution_count": null,
   "id": "b678e0f2",
   "metadata": {},
   "outputs": [],
   "source": [
    "dad_educ_level['gpa_range'].value_counts()"
   ]
  },
  {
   "cell_type": "code",
   "execution_count": null,
   "id": "22fedd8d",
   "metadata": {},
   "outputs": [],
   "source": [
    "dad_educ_level[['dad_close', 'caring_dad', 'cumulative_gpa', 'Value']].corr()"
   ]
  },
  {
   "cell_type": "code",
   "execution_count": null,
   "id": "31365484",
   "metadata": {},
   "outputs": [],
   "source": [
    "dad_educ_level.to_csv('dad.csv')"
   ]
  },
  {
   "cell_type": "markdown",
   "id": "178ffad8",
   "metadata": {},
   "source": [
    "Dad -- View on School -- Disappointed if they don't graduate college/hs"
   ]
  },
  {
   "cell_type": "code",
   "execution_count": null,
   "id": "837b84eb",
   "metadata": {},
   "outputs": [],
   "source": [
    "dad_school = pd.read_csv(r\"C:\\Users\\mnorm\\Documents\\NSS\\NSS-Capstone\\data\\National Longitudinal Study of Adolescent to Adult Health\\ICPSR_21600\\DS0001\\21600-0001-Data.tsv\", sep = '\\t', usecols = ['AID', 'H1WP15', 'H1WP16'])\n",
    "dad_school = dad_school.rename(columns = {'H1WP15': 'graduate_college', 'H1WP16': 'graduate_hs'})\n",
    "dad_school = pd.merge(AID, dad_school, on = 'AID', how = 'left')\n",
    "dad_school.isna().sum()\n",
    "dad_school['graduate_college'].value_counts() #drop 7 (904), 8(4), 6(1)\n",
    "dad_school['graduate_hs'].value_counts() #drop 7(904), 8(3), 6(4)\n",
    "dad_school = dad_school.drop(dad_school[dad_school['graduate_hs'] == 7].index)\n",
    "dad_school.loc[(dad_school['graduate_hs'] == 8) | (dad_school['graduate_hs'] == 6)]\n",
    "dad_school = dad_school.drop([1097, 1816, 3163])"
   ]
  },
  {
   "cell_type": "code",
   "execution_count": null,
   "id": "6031a88a",
   "metadata": {},
   "outputs": [],
   "source": [
    "dad_school = pd.merge(dad_school, hs_gpa, on = 'AID', how = 'inner')\n",
    "dad_school"
   ]
  },
  {
   "cell_type": "code",
   "execution_count": null,
   "id": "91f6ba19",
   "metadata": {},
   "outputs": [],
   "source": [
    "dad_school[['graduate_college', 'graduate_hs', 'cumulative_gpa']].corr()"
   ]
  },
  {
   "cell_type": "code",
   "execution_count": null,
   "id": "e4fe1f02",
   "metadata": {},
   "outputs": [],
   "source": [
    "dad_school_grades = pd.merge(dad_school, grades, on = 'AID', how = 'inner')\n",
    "dad_school_grades"
   ]
  },
  {
   "cell_type": "code",
   "execution_count": null,
   "id": "88f0f051",
   "metadata": {},
   "outputs": [],
   "source": [
    "dad_school_grades[['graduate_college', 'graduate_hs','English', 'Math', 'History', 'Science']].corr()"
   ]
  },
  {
   "cell_type": "code",
   "execution_count": null,
   "id": "7c2055c8",
   "metadata": {},
   "outputs": [],
   "source": [
    "dad_school_grades[['cumulative_gpa','English', 'Math', 'History', 'Science']].corr()"
   ]
  },
  {
   "cell_type": "code",
   "execution_count": null,
   "id": "4acebaa8",
   "metadata": {},
   "outputs": [],
   "source": [
    "dad_grad_educ_level = pd.merge(dad_school_grades, educ_level, how = 'left', on = 'AID')\n",
    "dad_grad_educ_level['Value'].value_counts()\n",
    "dad_grad_educ_level.head()"
   ]
  },
  {
   "cell_type": "code",
   "execution_count": null,
   "id": "9de6299a",
   "metadata": {},
   "outputs": [],
   "source": [
    "dad_grad_educ_level[['graduate_college', 'graduate_hs', 'cumulative_gpa', 'Value']].corr()"
   ]
  },
  {
   "cell_type": "code",
   "execution_count": null,
   "id": "a8474567",
   "metadata": {},
   "outputs": [],
   "source": [
    "dad_grad_educ_level.to_csv(\"dad_grad.csv\")"
   ]
  },
  {
   "cell_type": "markdown",
   "id": "be7f6748",
   "metadata": {},
   "source": [
    "Kids w/ no mom or dad figure"
   ]
  },
  {
   "cell_type": "markdown",
   "id": "c08b754f",
   "metadata": {},
   "source": [
    "&emsp; No dad"
   ]
  },
  {
   "cell_type": "code",
   "execution_count": null,
   "id": "0a95e9cc",
   "metadata": {},
   "outputs": [],
   "source": [
    "no_dad = pd.read_csv(r\"C:\\Users\\mnorm\\Documents\\NSS\\NSS-Capstone\\data\\National Longitudinal Study of Adolescent to Adult Health\\ICPSR_21600\\DS0001\\21600-0001-Data.tsv\", sep = '\\t', usecols = ['AID', 'H1WP13', 'H1WP14'])\n",
    "no_dad = no_dad.rename(columns = {'H1WP13':'dad_close', 'H1WP14':'caring_dad'})\n",
    "no_dad = pd.merge(AID, no_dad, how = 'left', on = 'AID')\n",
    "no_dad.isna().sum()\n",
    "no_dad = no_dad.drop(no_dad[(no_dad['dad_close'] == 6)].index)\n",
    "no_dad"
   ]
  },
  {
   "cell_type": "code",
   "execution_count": null,
   "id": "92fad81d",
   "metadata": {},
   "outputs": [],
   "source": [
    "no_dad = no_dad.loc[no_dad['dad_close'] == 7]"
   ]
  },
  {
   "cell_type": "code",
   "execution_count": null,
   "id": "9ed9c455",
   "metadata": {},
   "outputs": [],
   "source": [
    "no_dad = pd.merge(no_dad, hs_gpa, on = 'AID', how = 'inner')"
   ]
  },
  {
   "cell_type": "code",
   "execution_count": null,
   "id": "bfe1723e",
   "metadata": {},
   "outputs": [],
   "source": [
    "no_dad = pd.merge(no_dad, grades, on = 'AID', how = 'inner')"
   ]
  },
  {
   "cell_type": "code",
   "execution_count": null,
   "id": "b5f4b311",
   "metadata": {},
   "outputs": [],
   "source": [
    "no_dad = pd.merge(no_dad, educ_level, how = 'inner', on = 'AID')"
   ]
  },
  {
   "cell_type": "code",
   "execution_count": null,
   "id": "007b69bd",
   "metadata": {},
   "outputs": [],
   "source": [
    "no_dad"
   ]
  },
  {
   "cell_type": "code",
   "execution_count": null,
   "id": "4f61d698",
   "metadata": {},
   "outputs": [],
   "source": [
    "no_dad['gpa_range'].value_counts()"
   ]
  },
  {
   "cell_type": "code",
   "execution_count": null,
   "id": "5d77674c",
   "metadata": {},
   "outputs": [],
   "source": [
    "no_dad_school = pd.DataFrame(round(no_dad['Highest_educ_level'].value_counts(normalize = True), 4)).reset_index(drop = False)"
   ]
  },
  {
   "cell_type": "markdown",
   "id": "d734a114",
   "metadata": {},
   "source": [
    "&emsp; No Mom"
   ]
  },
  {
   "cell_type": "code",
   "execution_count": null,
   "id": "4e6b329a",
   "metadata": {},
   "outputs": [],
   "source": [
    "no_mom = pd.read_csv(r\"C:\\Users\\mnorm\\Documents\\NSS\\NSS-Capstone\\data\\National Longitudinal Study of Adolescent to Adult Health\\ICPSR_21600\\DS0001\\21600-0001-Data.tsv\", sep = '\\t', usecols = ['AID','H1WP9', 'H1WP10'])\n",
    "no_mom = no_mom.rename(columns = {'H1WP9': 'mom_close', 'H1WP10': 'caring_mom'})\n",
    "no_mom = pd.merge(AID, no_mom, how = 'left', on = 'AID')\n",
    "no_mom.isna().sum()\n",
    "no_mom.loc[(no_mom['mom_close'] == 6) | (no_mom['mom_close'] == 8)]\n",
    "no_mom = no_mom.drop([986, 1401, 1097, 3054])\n",
    "no_mom = no_mom.loc[no_mom['mom_close'] == 7]\n",
    "no_mom"
   ]
  },
  {
   "cell_type": "code",
   "execution_count": null,
   "id": "e5ca37e7",
   "metadata": {},
   "outputs": [],
   "source": [
    "no_mom = pd.merge(no_mom, hs_gpa, on = 'AID', how = 'inner')\n",
    "no_mom"
   ]
  },
  {
   "cell_type": "code",
   "execution_count": null,
   "id": "7a677092",
   "metadata": {},
   "outputs": [],
   "source": [
    "no_mom = pd.merge(no_mom, grades, on = 'AID', how = 'inner')\n",
    "no_mom"
   ]
  },
  {
   "cell_type": "code",
   "execution_count": null,
   "id": "e1a7ac88",
   "metadata": {},
   "outputs": [],
   "source": [
    "no_mom = pd.merge(no_mom, educ_level, how = 'inner', on = 'AID')\n",
    "no_mom"
   ]
  },
  {
   "cell_type": "code",
   "execution_count": null,
   "id": "99324543",
   "metadata": {},
   "outputs": [],
   "source": [
    "no_mom['gpa_range'].value_counts()"
   ]
  },
  {
   "cell_type": "code",
   "execution_count": null,
   "id": "7b756f1a",
   "metadata": {},
   "outputs": [],
   "source": [
    "no_dad_school = pd.DataFrame(round(no_mom['Highest_educ_level'].value_counts(normalize = True), 4)).reset_index(drop = False)"
   ]
  },
  {
   "cell_type": "markdown",
   "id": "0706b624",
   "metadata": {},
   "source": [
    "&emsp; No Mom nor Dad"
   ]
  },
  {
   "cell_type": "code",
   "execution_count": null,
   "id": "593da762",
   "metadata": {},
   "outputs": [],
   "source": [
    "no_mom2 = pd.read_csv(r\"C:\\Users\\mnorm\\Documents\\NSS\\NSS-Capstone\\data\\National Longitudinal Study of Adolescent to Adult Health\\ICPSR_21600\\DS0001\\21600-0001-Data.tsv\", sep = '\\t', usecols = ['AID','H1WP9', 'H1WP10'])\n",
    "no_mom2 = no_mom2.rename(columns = {'H1WP9': 'mom_close', 'H1WP10': 'caring_mom'})\n",
    "no_mom2 = pd.merge(AID, no_mom2, how = 'left', on = 'AID')\n",
    "no_mom2.isna().sum()\n",
    "no_mom2 = no_mom2.loc[no_mom2['mom_close'] == 7]\n",
    "no_mom2"
   ]
  },
  {
   "cell_type": "code",
   "execution_count": null,
   "id": "3b8f0c4e",
   "metadata": {},
   "outputs": [],
   "source": [
    "no_dad2 = pd.read_csv(r\"C:\\Users\\mnorm\\Documents\\NSS\\NSS-Capstone\\data\\National Longitudinal Study of Adolescent to Adult Health\\ICPSR_21600\\DS0001\\21600-0001-Data.tsv\", sep = '\\t', usecols = ['AID', 'H1WP13', 'H1WP14'])\n",
    "no_dad2 = no_dad2.rename(columns = {'H1WP13':'dad_close', 'H1WP14':'caring_dad'})\n",
    "no_dad2 = pd.merge(AID, no_dad2, how = 'left', on = 'AID')\n",
    "no_dad2.isna().sum()\n",
    "no_dad2 = no_dad2.loc[no_dad2['dad_close'] == 7]\n",
    "no_dad2"
   ]
  },
  {
   "cell_type": "code",
   "execution_count": null,
   "id": "d0284bf3",
   "metadata": {},
   "outputs": [],
   "source": [
    "no_parents = pd.merge(no_mom2, no_dad2, on = 'AID', how = 'inner')"
   ]
  },
  {
   "cell_type": "code",
   "execution_count": null,
   "id": "0f53f1a5",
   "metadata": {},
   "outputs": [],
   "source": [
    "no_parents = pd.merge(no_parents, hs_gpa, on = 'AID', how = 'inner')\n",
    "len(no_parents)"
   ]
  },
  {
   "cell_type": "code",
   "execution_count": null,
   "id": "d884719c",
   "metadata": {},
   "outputs": [],
   "source": [
    "no_parents = pd.merge(no_parents, grades, on = 'AID', how = 'inner')\n",
    "no_parents"
   ]
  },
  {
   "cell_type": "code",
   "execution_count": null,
   "id": "1ed24491",
   "metadata": {},
   "outputs": [],
   "source": [
    "no_parents = pd.merge(no_parents, educ_level, how = 'inner', on = 'AID')\n",
    "no_parents"
   ]
  },
  {
   "cell_type": "code",
   "execution_count": null,
   "id": "a991bdc0",
   "metadata": {},
   "outputs": [],
   "source": [
    "no_parents['gpa_range'].value_counts()"
   ]
  },
  {
   "cell_type": "code",
   "execution_count": null,
   "id": "d4690780",
   "metadata": {},
   "outputs": [],
   "source": [
    "pd.DataFrame(round(no_parents['Highest_educ_level'].value_counts(normalize = True),4)).reset_index(drop = False)"
   ]
  },
  {
   "cell_type": "markdown",
   "id": "33c0dc05",
   "metadata": {},
   "source": [
    "&emsp; Single Mom"
   ]
  },
  {
   "cell_type": "code",
   "execution_count": null,
   "id": "4a7bf11b",
   "metadata": {},
   "outputs": [],
   "source": [
    "mom2 = pd.read_csv(r\"C:\\Users\\mnorm\\Documents\\NSS\\NSS-Capstone\\data\\National Longitudinal Study of Adolescent to Adult Health\\ICPSR_21600\\DS0001\\21600-0001-Data.tsv\", sep = '\\t', usecols = ['AID','H1WP9', 'H1WP10'])\n",
    "mom2 = mom2.rename(columns = {'H1WP9': 'mom_close', 'H1WP10': 'caring_mom'})\n",
    "mom2 = pd.merge(AID, mom2, how = 'left', on = 'AID')\n",
    "mom2.isna().sum()\n",
    "mom2 = mom2.loc[mom2['mom_close'] != 7]\n",
    "mom2"
   ]
  },
  {
   "cell_type": "code",
   "execution_count": null,
   "id": "d6f3c024",
   "metadata": {},
   "outputs": [],
   "source": [
    "single_mom = pd.merge(mom2, no_dad, how = 'inner', on = 'AID')\n",
    "single_mom['mom_close'].value_counts()\n",
    "single_mom = single_mom.drop(single_mom[single_mom['mom_close'] == 8].index)"
   ]
  },
  {
   "cell_type": "code",
   "execution_count": null,
   "id": "4f1bfed8",
   "metadata": {},
   "outputs": [],
   "source": [
    "single_mom"
   ]
  },
  {
   "cell_type": "code",
   "execution_count": null,
   "id": "3ecdac8e",
   "metadata": {},
   "outputs": [],
   "source": [
    "single_mom['mom_close'].value_counts()"
   ]
  },
  {
   "cell_type": "code",
   "execution_count": null,
   "id": "0d097afb",
   "metadata": {},
   "outputs": [],
   "source": [
    "single_mom['gpa_range'].value_counts()"
   ]
  },
  {
   "cell_type": "code",
   "execution_count": null,
   "id": "910d6475",
   "metadata": {},
   "outputs": [],
   "source": [
    "single_mom_school = pd.DataFrame(round(single_mom['Highest_educ_level'].value_counts(normalize = True),4)).reset_index(drop = False)\n",
    "single_mom_school"
   ]
  },
  {
   "cell_type": "code",
   "execution_count": null,
   "id": "d383e1bd",
   "metadata": {},
   "outputs": [],
   "source": [
    "single_mom[['mom_close', 'caring_mom', 'cumulative_gpa', 'Value']].corr()"
   ]
  },
  {
   "cell_type": "markdown",
   "id": "d6127a7c",
   "metadata": {},
   "source": [
    "&emsp; Single Dad"
   ]
  },
  {
   "cell_type": "code",
   "execution_count": null,
   "id": "eadcd38f",
   "metadata": {},
   "outputs": [],
   "source": [
    "dad2 = pd.read_csv(r\"C:\\Users\\mnorm\\Documents\\NSS\\NSS-Capstone\\data\\National Longitudinal Study of Adolescent to Adult Health\\ICPSR_21600\\DS0001\\21600-0001-Data.tsv\", sep = '\\t', usecols = ['AID', 'H1WP13', 'H1WP14'])\n",
    "dad2 = dad2.rename(columns = {'H1WP13':'dad_close', 'H1WP14':'caring_dad'})\n",
    "dad2 = pd.merge(AID, dad2, how = 'left', on = 'AID')\n",
    "dad2.isna().sum()\n",
    "dad2 = dad2.loc[dad2['dad_close'] != 7]\n",
    "dad2"
   ]
  },
  {
   "cell_type": "code",
   "execution_count": null,
   "id": "17437574",
   "metadata": {},
   "outputs": [],
   "source": [
    "single_dad = pd.merge(dad2, no_mom, how = 'inner', on = 'AID')\n",
    "single_dad"
   ]
  },
  {
   "cell_type": "code",
   "execution_count": null,
   "id": "0d75b89f",
   "metadata": {},
   "outputs": [],
   "source": [
    "single_dad['dad_close'].value_counts()"
   ]
  },
  {
   "cell_type": "code",
   "execution_count": null,
   "id": "832c7a5e",
   "metadata": {},
   "outputs": [],
   "source": [
    "single_dad['gpa_range'].value_counts()"
   ]
  },
  {
   "cell_type": "code",
   "execution_count": null,
   "id": "42816ed8",
   "metadata": {},
   "outputs": [],
   "source": [
    "pd.DataFrame(round(single_dad['Highest_educ_level'].value_counts(normalize = True), 4)).reset_index(drop = False)"
   ]
  },
  {
   "cell_type": "code",
   "execution_count": null,
   "id": "b578c03b",
   "metadata": {
    "scrolled": true
   },
   "outputs": [],
   "source": [
    "single_dad[['dad_close', 'caring_dad', 'cumulative_gpa', 'Value']].corr()"
   ]
  },
  {
   "cell_type": "markdown",
   "id": "6ad3dc91",
   "metadata": {},
   "source": [
    "&emsp; Both Parents"
   ]
  },
  {
   "cell_type": "code",
   "execution_count": null,
   "id": "96af970a",
   "metadata": {},
   "outputs": [],
   "source": [
    "mom3 = pd.read_csv(r\"C:\\Users\\mnorm\\Documents\\NSS\\NSS-Capstone\\data\\National Longitudinal Study of Adolescent to Adult Health\\ICPSR_21600\\DS0001\\21600-0001-Data.tsv\", sep = '\\t', usecols = ['AID','H1WP9', 'H1WP10'])\n",
    "mom3 = mom3.rename(columns = {'H1WP9': 'mom_close', 'H1WP10': 'caring_mom'})\n",
    "mom3 = pd.merge(AID, mom3, how = 'left', on = 'AID')\n",
    "mom3.isna().sum()\n",
    "mom3 = mom3.loc[mom3['mom_close'] != 7]\n",
    "mom3"
   ]
  },
  {
   "cell_type": "code",
   "execution_count": null,
   "id": "fce4df3d",
   "metadata": {},
   "outputs": [],
   "source": [
    "mom3['mom_close'].value_counts()"
   ]
  },
  {
   "cell_type": "code",
   "execution_count": null,
   "id": "490c6ebb",
   "metadata": {},
   "outputs": [],
   "source": []
  },
  {
   "cell_type": "code",
   "execution_count": null,
   "id": "b4928ca7",
   "metadata": {},
   "outputs": [],
   "source": [
    "dad3 = pd.read_csv(r\"C:\\Users\\mnorm\\Documents\\NSS\\NSS-Capstone\\data\\National Longitudinal Study of Adolescent to Adult Health\\ICPSR_21600\\DS0001\\21600-0001-Data.tsv\", sep = '\\t', usecols = ['AID', 'H1WP13', 'H1WP14'])\n",
    "dad3 = dad3.rename(columns = {'H1WP13':'dad_close', 'H1WP14':'caring_dad'})\n",
    "dad3 = pd.merge(AID, dad3, how = 'left', on = 'AID')\n",
    "dad3.isna().sum()\n",
    "dad3['dad_close'].value_counts() #drop 6(1), 7 (904)\n",
    "dad3['caring_dad'].value_counts() #drop 6(1), 7 (904)\n",
    "dad3 = dad3.drop(dad3[(dad3['dad_close'] == 7) | (dad3['dad_close'] == 6)].index)\n",
    "dad3"
   ]
  },
  {
   "cell_type": "code",
   "execution_count": null,
   "id": "4543136f",
   "metadata": {},
   "outputs": [],
   "source": [
    "dad3['dad_close'].value_counts()\n",
    "dad3['caring_dad'].value_counts()"
   ]
  },
  {
   "cell_type": "code",
   "execution_count": null,
   "id": "5c0bd9af",
   "metadata": {},
   "outputs": [],
   "source": [
    "dad3 = pd.merge(dad3, dc_code, how = 'left', on = 'dad_close')\n",
    "dad3"
   ]
  },
  {
   "cell_type": "code",
   "execution_count": null,
   "id": "8f03b8de",
   "metadata": {},
   "outputs": [],
   "source": [
    "dad3 = pd.merge(dad3, cd_code, how = 'left', on = 'caring_dad')\n",
    "dad3"
   ]
  },
  {
   "cell_type": "code",
   "execution_count": null,
   "id": "e8a9a887",
   "metadata": {},
   "outputs": [],
   "source": [
    "mom3 = pd.read_csv(r\"C:\\Users\\mnorm\\Documents\\NSS\\NSS-Capstone\\data\\National Longitudinal Study of Adolescent to Adult Health\\ICPSR_21600\\DS0001\\21600-0001-Data.tsv\", sep = '\\t', usecols = ['AID','H1WP9', 'H1WP10'])\n",
    "mom3 = mom3.rename(columns = {'H1WP9': 'mom_close', 'H1WP10': 'caring_mom'})\n",
    "mom3 = pd.merge(AID, mom3, how = 'left', on = 'AID')\n",
    "mom3.isna().sum()\n",
    "mom3['mom_close'].value_counts() #drop 8 and 6 (2 each) and 7 (148)\n",
    "mom3['caring_mom'].value_counts() #drop 8 and 6 if overlap (1 each) and 7 (148)\n",
    "mom3.loc[(mom3['mom_close'] == 6) | (mom3['mom_close'] == 8)]\n",
    "mom3 = mom3.drop(mom3[mom3['mom_close'] == 7].index)\n",
    "mom3 = mom3.drop([986, 1097, 1401, 3054])\n",
    "mom3"
   ]
  },
  {
   "cell_type": "code",
   "execution_count": null,
   "id": "36d634be",
   "metadata": {},
   "outputs": [],
   "source": [
    "mom3['mom_close'].value_counts()\n",
    "mom3['caring_mom'].value_counts()"
   ]
  },
  {
   "cell_type": "code",
   "execution_count": null,
   "id": "0008e2e0",
   "metadata": {},
   "outputs": [],
   "source": [
    "mom3 = pd.merge(mom3, mc_code, how = 'left', on = 'mom_close')\n",
    "mom3"
   ]
  },
  {
   "cell_type": "code",
   "execution_count": null,
   "id": "8681e826",
   "metadata": {},
   "outputs": [],
   "source": [
    "mom3 = pd.merge(mom3, cm_code, how = 'left', on = 'caring_mom')\n",
    "mom3"
   ]
  },
  {
   "cell_type": "code",
   "execution_count": null,
   "id": "967eeb4a",
   "metadata": {},
   "outputs": [],
   "source": [
    "both_parents = pd.merge(mom3, dad3, on = 'AID', how = 'inner')\n",
    "both_parents = pd.merge(both_parents, hs_gpa, on = 'AID', how = 'inner')\n",
    "both_parents = pd.merge(both_parents, educ_level, on = 'AID', how = 'inner')\n",
    "both_parents = pd.merge(both_parents, grades, on = 'AID', how = 'inner')\n",
    "both_parents"
   ]
  },
  {
   "cell_type": "code",
   "execution_count": null,
   "id": "057e61fb",
   "metadata": {},
   "outputs": [],
   "source": [
    "both_parents['gpa_range'].value_counts()"
   ]
  },
  {
   "cell_type": "code",
   "execution_count": null,
   "id": "f3a20619",
   "metadata": {},
   "outputs": [],
   "source": [
    "both_parents['Highest_educ_level'].value_counts()"
   ]
  },
  {
   "cell_type": "code",
   "execution_count": null,
   "id": "419340d8",
   "metadata": {},
   "outputs": [],
   "source": [
    "both_parents[['mom_close', 'caring_mom', 'dad_close', 'caring_dad', 'cumulative_gpa', 'Value']].corr()"
   ]
  },
  {
   "cell_type": "markdown",
   "id": "34f851da",
   "metadata": {},
   "source": [
    "CSV Files"
   ]
  },
  {
   "cell_type": "code",
   "execution_count": null,
   "id": "3effc0bd",
   "metadata": {},
   "outputs": [],
   "source": [
    "both_parents.to_csv('both parents.csv')"
   ]
  },
  {
   "cell_type": "code",
   "execution_count": null,
   "id": "51e04f6b",
   "metadata": {},
   "outputs": [],
   "source": [
    "no_parents.to_csv('no parents.csv')"
   ]
  },
  {
   "cell_type": "code",
   "execution_count": null,
   "id": "12ccfbcf",
   "metadata": {},
   "outputs": [],
   "source": [
    "single_mom.to_csv('single mom.csv')"
   ]
  },
  {
   "cell_type": "code",
   "execution_count": null,
   "id": "1329bfb4",
   "metadata": {},
   "outputs": [],
   "source": [
    "single_dad.to_csv('single dad.csv')"
   ]
  }
 ],
 "metadata": {
  "kernelspec": {
   "display_name": "Python 3 (ipykernel)",
   "language": "python",
   "name": "python3"
  },
  "language_info": {
   "codemirror_mode": {
    "name": "ipython",
    "version": 3
   },
   "file_extension": ".py",
   "mimetype": "text/x-python",
   "name": "python",
   "nbconvert_exporter": "python",
   "pygments_lexer": "ipython3",
   "version": "3.9.7"
  },
  "widgets": {
   "application/vnd.jupyter.widget-state+json": {
    "state": {},
    "version_major": 2,
    "version_minor": 0
   }
  }
 },
 "nbformat": 4,
 "nbformat_minor": 5
}
