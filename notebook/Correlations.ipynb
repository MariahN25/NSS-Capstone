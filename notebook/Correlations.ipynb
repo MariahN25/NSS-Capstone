{
 "cells": [
  {
   "cell_type": "code",
   "execution_count": null,
   "id": "2d3b6808",
   "metadata": {},
   "outputs": [],
   "source": [
    "import pandas as pd\n",
    "import numpy as np\n",
    "import matplotlib.pyplot as plt\n",
    "import seaborn as sns\n",
    "from functools import reduce\n",
    "\n",
    "%matplotlib inline"
   ]
  },
  {
   "cell_type": "markdown",
   "id": "934db0c1",
   "metadata": {},
   "source": [
    "Merging Waves"
   ]
  },
  {
   "cell_type": "code",
   "execution_count": null,
   "id": "a60ffbb8",
   "metadata": {},
   "outputs": [],
   "source": [
    "wave1 = pd.read_csv(r\"C:\\Users\\mnorm\\Documents\\NSS\\NSS-Capstone\\data\\National Longitudinal Study of Adolescent to Adult Health\\ICPSR_21600\\DS0001\\21600-0001-Data.tsv\", sep = '\\t', usecols = ['AID'])\n",
    "wave3educ = pd.read_csv(r\"C:\\Users\\mnorm\\Documents\\NSS\\NSS-Capstone\\data\\National Longitudinal Study of Adolescent to Adult Health\\ICPSR_21600\\DS0016\\21600-0016-Data.tsv\", sep = '\\t', usecols = ['AID'])\n",
    "wave3grad = pd.read_csv(r\"C:\\Users\\mnorm\\Documents\\NSS\\NSS-Capstone\\data\\National Longitudinal Study of Adolescent to Adult Health\\ICPSR_21600\\DS0017\\21600-0017-Data.tsv\", sep = '\\t', usecols = ['AID'])\n",
    "wave4 = pd.read_csv(r\"C:\\Users\\mnorm\\Documents\\NSS\\NSS-Capstone\\data\\National Longitudinal Study of Adolescent to Adult Health\\ICPSR_21600\\DS0022\\21600-0022-Data.tsv\", sep = '\\t', usecols = ['AID'])"
   ]
  },
  {
   "cell_type": "code",
   "execution_count": null,
   "id": "d130834d",
   "metadata": {},
   "outputs": [],
   "source": [
    "waves = [wave1, wave3educ, wave3grad, wave4]\n",
    "AID = reduce(lambda left, right: pd.merge(left, right, on = 'AID', how = 'inner'), waves)\n",
    "len(AID)"
   ]
  },
  {
   "cell_type": "markdown",
   "id": "95ab8bff",
   "metadata": {},
   "source": [
    "GPA"
   ]
  },
  {
   "cell_type": "code",
   "execution_count": null,
   "id": "4ee3b641",
   "metadata": {},
   "outputs": [],
   "source": [
    "hs_gpa = pd.read_csv(r\"C:\\Users\\mnorm\\Documents\\NSS\\NSS-Capstone\\data\\National Longitudinal Study of Adolescent to Adult Health\\ICPSR_21600\\DS0016\\21600-0016-Data.tsv\", sep = '\\t', usecols = ['AID', 'EAOGPAC'])\n",
    "hs_gpa = hs_gpa.rename(columns = {'AID': 'AID', 'EAOGPAC': 'cumulative_gpa'})\n",
    "hs_gpa = pd.merge(AID, hs_gpa, on = 'AID', how = 'left')\n",
    "#hs_gpa.isna().sum() #check for nulls to make sure the AID matched\n",
    "bins = [-1, 1, 2, 3 ,4]\n",
    "labels = ['0-1', '1-2', '2-3', '3-4']\n",
    "hs_gpa['gpa_range'] = pd.cut(np.array(hs_gpa['cumulative_gpa']), bins = bins, labels = labels)\n",
    "hs_gpa = hs_gpa.drop(hs_gpa[hs_gpa['cumulative_gpa'] == 9995].index)\n",
    "hs_gpa"
   ]
  },
  {
   "cell_type": "markdown",
   "id": "3cb5465f",
   "metadata": {},
   "source": [
    "Grades -- Wave 1"
   ]
  },
  {
   "cell_type": "code",
   "execution_count": null,
   "id": "1a848fbd",
   "metadata": {},
   "outputs": [],
   "source": [
    "grades = pd.read_csv(r\"\\Users\\mnorm\\Documents\\NSS\\NSS-Capstone\\data\\National Longitudinal Study of Adolescent to Adult Health\\ICPSR_21600\\DS0001\\21600-0001-Data.tsv\", sep = '\\t', usecols = ['AID','H1ED11', 'H1ED12', 'H1ED13', 'H1ED14'], low_memory = False)\n",
    "grades = grades.rename(columns = {'AID': 'AID','H1ED11': 'English', 'H1ED12' : 'Math', 'H1ED13' : 'History', 'H1ED14' : 'Science'})\n",
    "grades"
   ]
  },
  {
   "cell_type": "code",
   "execution_count": null,
   "id": "408498d4",
   "metadata": {},
   "outputs": [],
   "source": [
    "grades[['English', 'Math', 'History', 'Science']].corr()"
   ]
  },
  {
   "cell_type": "markdown",
   "id": "af5a6333",
   "metadata": {},
   "source": [
    "Academic Attainment"
   ]
  },
  {
   "cell_type": "markdown",
   "id": "9822bb87",
   "metadata": {},
   "source": [
    "Peers"
   ]
  },
  {
   "cell_type": "code",
   "execution_count": null,
   "id": "778a1ca8",
   "metadata": {},
   "outputs": [],
   "source": [
    "peers = pd.read_csv(r\"C:\\Users\\mnorm\\Documents\\NSS\\NSS-Capstone\\data\\National Longitudinal Study of Adolescent to Adult Health\\ICPSR_21600\\DS0001\\21600-0001-Data.tsv\", sep = '\\t', usecols = ['AID','H1ED18','H1ED19', 'H1ED24'])\n",
    "peers = peers.rename(columns = {'H1ED18':'getting_along','H1ED19':'close_peers','H1ED24':'safe_school'})\n",
    "peers = pd.merge(AID, peers, how = 'left', on = 'AID')\n",
    "#peers.isna().sum()\n",
    "#peers['getting_along'].value_counts() # get rid of 7 (57 ppl)\n",
    "#peers['close_peers'].value_counts() #get rid of 7 (57 ppl) and 8 (1)\n",
    "#len(peers.loc[peers['getting_along'] == 7])#= 57, same 57 state 7\n",
    "#peers.loc[peers['close_peers'] == 8] # keep this value b/c they have answers for the other columns\n",
    "peers = peers.drop(peers[peers['getting_along'] == 7].index)\n",
    "peers"
   ]
  },
  {
   "cell_type": "code",
   "execution_count": null,
   "id": "7b61a734",
   "metadata": {},
   "outputs": [],
   "source": [
    "peers = pd.merge(peers, hs_gpa, on = 'AID', how = 'inner')\n",
    "len(peers)"
   ]
  },
  {
   "cell_type": "code",
   "execution_count": null,
   "id": "2d624c7a",
   "metadata": {},
   "outputs": [],
   "source": [
    "peers[['getting_along', 'close_peers', 'safe_school', 'cumulative_gpa']].corr()"
   ]
  },
  {
   "cell_type": "code",
   "execution_count": null,
   "id": "cc2cacda",
   "metadata": {},
   "outputs": [],
   "source": [
    "peer_grades = pd.merge(peers, grades, on = 'AID', how = 'inner')\n",
    "peer_grades"
   ]
  },
  {
   "cell_type": "code",
   "execution_count": null,
   "id": "f4d8e01b",
   "metadata": {},
   "outputs": [],
   "source": [
    "peer_grades[['getting_along', 'close_peers', 'safe_school','English', 'Math', 'History', 'Science']].corr()"
   ]
  },
  {
   "cell_type": "code",
   "execution_count": null,
   "id": "2456ca15",
   "metadata": {},
   "outputs": [],
   "source": [
    "peer_grades[['English', 'Math', 'History', 'Science', 'cumulative_gpa']].corr()"
   ]
  },
  {
   "cell_type": "markdown",
   "id": "f97a6dac",
   "metadata": {},
   "source": [
    "Friends"
   ]
  },
  {
   "cell_type": "code",
   "execution_count": null,
   "id": "7dad539c",
   "metadata": {},
   "outputs": [],
   "source": [
    "friends = pd.read_csv(r\"C:\\Users\\mnorm\\Documents\\NSS\\NSS-Capstone\\data\\National Longitudinal Study of Adolescent to Adult Health\\ICPSR_21600\\DS0001\\21600-0001-Data.tsv\", sep = '\\t', usecols = ['AID','H1PR4'])\n",
    "friends = friends.rename(columns = {'H1PR4': 'caring_friends'})\n",
    "friends = pd.merge(AID, friends, how = 'left', on = 'AID')\n",
    "#friends.isna().sum()\n",
    "#friends['caring_friends'].value_counts() #drop 6, 96, 98\n",
    "friends = friends.drop(friends[(friends['caring_friends'] == 6) |(friends['caring_friends'] == 96) | (friends['caring_friends'] == 98)].index)\n",
    "friends"
   ]
  },
  {
   "cell_type": "code",
   "execution_count": null,
   "id": "95f0952e",
   "metadata": {},
   "outputs": [],
   "source": [
    "friends = pd.merge(friends, hs_gpa, on = 'AID', how = 'inner')\n",
    "len(friends)"
   ]
  },
  {
   "cell_type": "code",
   "execution_count": null,
   "id": "588bde89",
   "metadata": {},
   "outputs": [],
   "source": [
    "friends[['caring_friends', 'cumulative_gpa']].corr()"
   ]
  },
  {
   "cell_type": "code",
   "execution_count": null,
   "id": "859da6ba",
   "metadata": {},
   "outputs": [],
   "source": [
    "friends_grades = pd.merge(friends, grades, on = 'AID', how = 'inner')\n",
    "friends_grades"
   ]
  },
  {
   "cell_type": "code",
   "execution_count": null,
   "id": "000a103d",
   "metadata": {},
   "outputs": [],
   "source": [
    "friends_grades[['caring_friends', 'English', 'Math', 'History', 'Science']].corr()"
   ]
  },
  {
   "cell_type": "code",
   "execution_count": null,
   "id": "b61bbd2c",
   "metadata": {},
   "outputs": [],
   "source": [
    "friends_grades[['cumulative_gpa', 'English', 'Math', 'History', 'Science']].corr()"
   ]
  },
  {
   "cell_type": "markdown",
   "id": "9addabe7",
   "metadata": {},
   "source": [
    "Mom -- Relationship"
   ]
  },
  {
   "cell_type": "code",
   "execution_count": null,
   "id": "50881d2c",
   "metadata": {},
   "outputs": [],
   "source": [
    "mom = pd.read_csv(r\"C:\\Users\\mnorm\\Documents\\NSS\\NSS-Capstone\\data\\National Longitudinal Study of Adolescent to Adult Health\\ICPSR_21600\\DS0001\\21600-0001-Data.tsv\", sep = '\\t', usecols = ['AID','H1WP9', 'H1WP10'])\n",
    "mom = mom.rename(columns = {'H1WP9': 'mom_close', 'H1WP10': 'caring_mom'})\n",
    "mom = pd.merge(AID, mom, how = 'left', on = 'AID')\n",
    "mom.isna().sum()\n",
    "mom['mom_close'].value_counts() #drop 8 and 6 (2 each) and 7 (148)\n",
    "mom['caring_mom'].value_counts() #drop 8 and 6 if overlap (1 each) and 7 (148)\n",
    "mom.loc[(mom['mom_close'] == 6) | (mom['mom_close'] == 8)]\n",
    "mom = mom.drop(mom[mom['mom_close'] == 7].index)\n",
    "mom = mom.drop([1097, 3054])\n",
    "mom"
   ]
  },
  {
   "cell_type": "code",
   "execution_count": null,
   "id": "47180862",
   "metadata": {},
   "outputs": [],
   "source": [
    "mom = pd.merge(mom, hs_gpa, how = 'inner', on = 'AID')\n",
    "mom"
   ]
  },
  {
   "cell_type": "code",
   "execution_count": null,
   "id": "7f1243ec",
   "metadata": {},
   "outputs": [],
   "source": [
    "mom[['mom_close', 'caring_mom', 'cumulative_gpa']].corr()"
   ]
  },
  {
   "cell_type": "code",
   "execution_count": null,
   "id": "1032d485",
   "metadata": {},
   "outputs": [],
   "source": [
    "mom_grades = pd.merge(mom, grades, on = 'AID', how = 'inner')\n",
    "mom_grades"
   ]
  },
  {
   "cell_type": "code",
   "execution_count": null,
   "id": "6a90b2d4",
   "metadata": {},
   "outputs": [],
   "source": [
    "mom_grades[['mom_close', 'caring_mom', 'English', 'Math', 'History', 'Science']].corr()"
   ]
  },
  {
   "cell_type": "code",
   "execution_count": null,
   "id": "a84ac202",
   "metadata": {},
   "outputs": [],
   "source": [
    "mom_grades[['cumulative_gpa', 'English', 'Math', 'History', 'Science']].corr()"
   ]
  },
  {
   "cell_type": "markdown",
   "id": "4589cb18",
   "metadata": {},
   "source": [
    "Mom -- View on School -- Disappointed if they don't graduate college/hs "
   ]
  },
  {
   "cell_type": "code",
   "execution_count": null,
   "id": "71dccbe2",
   "metadata": {},
   "outputs": [],
   "source": [
    "mom_school = pd.read_csv(r\"C:\\Users\\mnorm\\Documents\\NSS\\NSS-Capstone\\data\\National Longitudinal Study of Adolescent to Adult Health\\ICPSR_21600\\DS0001\\21600-0001-Data.tsv\", sep = '\\t', usecols = ['AID', 'H1WP11', 'H1WP12'])\n",
    "mom_school = mom_school.rename(columns = {'H1WP11': 'graduate_college', 'H1WP12': 'graduate_hs'})\n",
    "mom_school = pd.merge(AID, mom_school, on = 'AID', how = 'left')\n",
    "mom_school.isna().sum()\n",
    "mom_school['graduate_college'].value_counts() #drop 6(1) and 8(7) and 7 (148)\n",
    "mom_school['graduate_hs'].value_counts() #drop 6 (2), 8 (7), 9(1) that overlap and 7 (148)\n",
    "mom_school.loc[(mom_school['graduate_hs'] == 6) | (mom_school['graduate_hs'] == 8) | (mom_school['graduate_hs'] == 9)]\n",
    "mom_school = mom_school.drop([1097, 2736, 2892, 3054])\n",
    "mom_school = mom_school.drop(mom_school[mom_school['graduate_hs'] == 7].index)\n",
    "mom_school"
   ]
  },
  {
   "cell_type": "code",
   "execution_count": null,
   "id": "aa4c6da0",
   "metadata": {},
   "outputs": [],
   "source": [
    "mom_school = pd.merge(mom_school, hs_gpa, on = 'AID', how = 'inner')\n",
    "mom_school"
   ]
  },
  {
   "cell_type": "code",
   "execution_count": null,
   "id": "9ff65f4b",
   "metadata": {},
   "outputs": [],
   "source": [
    "mom_school[['graduate_college', 'graduate_hs', 'cumulative_gpa']].corr()"
   ]
  },
  {
   "cell_type": "code",
   "execution_count": null,
   "id": "91250550",
   "metadata": {},
   "outputs": [],
   "source": [
    "mom_school_grades = pd.merge(mom_school, grades, on = 'AID', how = 'inner')\n",
    "mom_school_grades"
   ]
  },
  {
   "cell_type": "code",
   "execution_count": null,
   "id": "97536322",
   "metadata": {},
   "outputs": [],
   "source": [
    "mom_school_grades[['graduate_college', 'graduate_hs','English', 'Math', 'History', 'Science']].corr()"
   ]
  },
  {
   "cell_type": "code",
   "execution_count": null,
   "id": "645400cb",
   "metadata": {},
   "outputs": [],
   "source": [
    "mom_school_grades[['cumulative_gpa', 'English', 'Math', 'History', 'Science']].corr()"
   ]
  },
  {
   "cell_type": "markdown",
   "id": "99db4def",
   "metadata": {},
   "source": [
    "Dad -- Relationship"
   ]
  },
  {
   "cell_type": "code",
   "execution_count": null,
   "id": "49a83e00",
   "metadata": {},
   "outputs": [],
   "source": [
    "#significantly more kids who don't have dads (value 7) than who don't have moms\n",
    "dad = pd.read_csv(r\"C:\\Users\\mnorm\\Documents\\NSS\\NSS-Capstone\\data\\National Longitudinal Study of Adolescent to Adult Health\\ICPSR_21600\\DS0001\\21600-0001-Data.tsv\", sep = '\\t', usecols = ['AID', 'H1WP13', 'H1WP14'])\n",
    "dad = dad.rename(columns = {'H1WP13':'dad_close', 'H1WP14':'caring_dad'})\n",
    "dad = pd.merge(AID, dad, how = 'left', on = 'AID')\n",
    "dad.isna().sum()\n",
    "dad['dad_close'].value_counts() #drop 6(1), 7 (904)\n",
    "dad['caring_dad'].value_counts() #drop 6(1), 7 (904)\n",
    "dad = dad.drop(dad[(dad['dad_close'] == 7) | (dad['dad_close'] == 6)].index)\n",
    "dad"
   ]
  },
  {
   "cell_type": "code",
   "execution_count": null,
   "id": "74b3a8e0",
   "metadata": {},
   "outputs": [],
   "source": [
    "dad = pd.merge(dad, hs_gpa, on = 'AID', how = 'inner')\n",
    "dad"
   ]
  },
  {
   "cell_type": "code",
   "execution_count": null,
   "id": "204036be",
   "metadata": {},
   "outputs": [],
   "source": [
    "dad[['dad_close', 'caring_dad', 'cumulative_gpa']].corr()"
   ]
  },
  {
   "cell_type": "code",
   "execution_count": null,
   "id": "f283537f",
   "metadata": {},
   "outputs": [],
   "source": [
    "dad_grades = pd.merge(dad, grades, on = 'AID', how = 'inner')\n",
    "dad_grades"
   ]
  },
  {
   "cell_type": "code",
   "execution_count": null,
   "id": "18edd1d7",
   "metadata": {},
   "outputs": [],
   "source": [
    "dad_grades[['dad_close', 'caring_dad','English', 'Math', 'History', 'Science']].corr()"
   ]
  },
  {
   "cell_type": "code",
   "execution_count": null,
   "id": "6b3c6abc",
   "metadata": {},
   "outputs": [],
   "source": [
    "dad_grades[['cumulative_gpa', 'English', 'Math', 'History', 'Science']].corr()"
   ]
  },
  {
   "cell_type": "markdown",
   "id": "178ffad8",
   "metadata": {},
   "source": [
    "Dad -- View on School -- Disappointed if they don't graduate college/hs"
   ]
  },
  {
   "cell_type": "code",
   "execution_count": null,
   "id": "837b84eb",
   "metadata": {},
   "outputs": [],
   "source": [
    "dad_school = pd.read_csv(r\"C:\\Users\\mnorm\\Documents\\NSS\\NSS-Capstone\\data\\National Longitudinal Study of Adolescent to Adult Health\\ICPSR_21600\\DS0001\\21600-0001-Data.tsv\", sep = '\\t', usecols = ['AID', 'H1WP15', 'H1WP16'])\n",
    "dad_school = dad_school.rename(columns = {'H1WP15': 'graduate_college', 'H1WP16': 'graduate_hs'})\n",
    "dad_school = pd.merge(AID, dad_school, on = 'AID', how = 'left')\n",
    "dad_school.isna().sum()\n",
    "dad_school['graduate_college'].value_counts() #drop 7 (904), 8(4), 6(1)\n",
    "dad_school['graduate_hs'].value_counts() #drop 7(904), 8(3), 6(4)\n",
    "dad_school = dad_school.drop(dad_school[dad_school['graduate_hs'] == 7].index)\n",
    "dad_school.loc[(dad_school['graduate_hs'] == 8) | (dad_school['graduate_hs'] == 6)]\n",
    "dad_school = dad_school.drop([1097, 1816, 3163])"
   ]
  },
  {
   "cell_type": "code",
   "execution_count": null,
   "id": "6031a88a",
   "metadata": {},
   "outputs": [],
   "source": [
    "dad_school = pd.merge(dad_school, hs_gpa, on = 'AID', how = 'inner')\n",
    "dad_school"
   ]
  },
  {
   "cell_type": "code",
   "execution_count": null,
   "id": "91f6ba19",
   "metadata": {},
   "outputs": [],
   "source": [
    "dad_school[['graduate_college', 'graduate_hs', 'cumulative_gpa']].corr()"
   ]
  },
  {
   "cell_type": "code",
   "execution_count": null,
   "id": "e4fe1f02",
   "metadata": {},
   "outputs": [],
   "source": [
    "dad_school_grades = pd.merge(dad_school, grades, on = 'AID', how = 'inner')\n",
    "dad_school_grades"
   ]
  },
  {
   "cell_type": "code",
   "execution_count": null,
   "id": "88f0f051",
   "metadata": {},
   "outputs": [],
   "source": [
    "dad_school_grades[['graduate_college', 'graduate_hs','English', 'Math', 'History', 'Science']].corr()"
   ]
  },
  {
   "cell_type": "code",
   "execution_count": null,
   "id": "7c2055c8",
   "metadata": {},
   "outputs": [],
   "source": [
    "dad_school_grades[['cumulative_gpa','English', 'Math', 'History', 'Science']].corr()"
   ]
  },
  {
   "cell_type": "markdown",
   "id": "be7f6748",
   "metadata": {},
   "source": [
    "Kids w/ no mom or dad figure"
   ]
  },
  {
   "cell_type": "code",
   "execution_count": null,
   "id": "53cebbe4",
   "metadata": {},
   "outputs": [],
   "source": []
  }
 ],
 "metadata": {
  "kernelspec": {
   "display_name": "Python 3 (ipykernel)",
   "language": "python",
   "name": "python3"
  },
  "language_info": {
   "codemirror_mode": {
    "name": "ipython",
    "version": 3
   },
   "file_extension": ".py",
   "mimetype": "text/x-python",
   "name": "python",
   "nbconvert_exporter": "python",
   "pygments_lexer": "ipython3",
   "version": "3.9.7"
  },
  "widgets": {
   "application/vnd.jupyter.widget-state+json": {
    "state": {},
    "version_major": 2,
    "version_minor": 0
   }
  }
 },
 "nbformat": 4,
 "nbformat_minor": 5
}
